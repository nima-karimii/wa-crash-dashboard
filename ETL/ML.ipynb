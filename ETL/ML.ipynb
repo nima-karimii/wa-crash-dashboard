{
 "metadata": {
  "language_info": {
   "codemirror_mode": {
    "name": "ipython",
    "version": 3
   },
   "file_extension": ".py",
   "mimetype": "text/x-python",
   "name": "python",
   "nbconvert_exporter": "python",
   "pygments_lexer": "ipython3",
   "version": "3.6.12-final"
  },
  "orig_nbformat": 2,
  "kernelspec": {
   "name": "Python 3.6.12 64-bit ('PythonAdv': conda)",
   "display_name": "Python 3.6.12 64-bit ('PythonAdv': conda)",
   "metadata": {
    "interpreter": {
     "hash": "2a9f4844aa4147fbc2a2f996c83b0ccc9b2f4fc4271ef1d69160988aafd4637a"
    }
   }
  }
 },
 "nbformat": 4,
 "nbformat_minor": 2,
 "cells": [
  {
   "cell_type": "code",
   "execution_count": 1,
   "metadata": {},
   "outputs": [],
   "source": [
    "# Import dependencies\n",
    "import pandas as pd\n",
    "import numpy as np\n",
    "import datetime  \n",
    "from datetime import date \n",
    "import calendar "
   ]
  },
  {
   "cell_type": "code",
   "execution_count": 2,
   "metadata": {},
   "outputs": [
    {
     "output_type": "execute_result",
     "data": {
      "text/plain": [
       "        Unnamed: 0    ACC_ID  ROAD_NO COMMON_ROAD_NAME CWAY   LONGITUDE  \\\n",
       "0                0  10034076  1250106      Huntriss Rd    S  115.787126   \n",
       "1                1  10034083  1311665     Joondalup Dr    L  115.781050   \n",
       "2                2  10036078  1110006          Lord St    S  115.954109   \n",
       "3                3  10036129  1300280    Fitzgerald St    S  115.859176   \n",
       "4                4  10014546  1102151      Connolly Dr    L  115.711603   \n",
       "...            ...       ...      ...              ...  ...         ...   \n",
       "145119      145587   9828256     H013      Canning Hwy    L  115.808584   \n",
       "145120      145588   9828289     H035       Charles St    L  115.852651   \n",
       "145121      145589   9801828  1070031        Currie St    S  115.753142   \n",
       "145122      145590   9830313  1251035       Herbert St    S  115.777739   \n",
       "145123      145591   9830411  1120138       Croesus St    S  115.921088   \n",
       "\n",
       "         LATITUDE  CRASH_DATE  CRASH_TIME ACCIDENT_TYPE  ...  \\\n",
       "0      -31.888018  09/06/2019       130.0  Intersection  ...   \n",
       "1      -31.770677  09/06/2019      1345.0  Intersection  ...   \n",
       "2      -31.900235  09/06/2019      1230.0  Intersection  ...   \n",
       "3      -31.932468  09/06/2019      1115.0      Midblock  ...   \n",
       "4      -31.651690  09/06/2019      1520.0  Intersection  ...   \n",
       "...           ...         ...         ...           ...  ...   \n",
       "145119 -32.032091  13/07/2018      2055.0  Intersection  ...   \n",
       "145120 -31.940140  13/07/2018      1330.0  Intersection  ...   \n",
       "145121 -32.342408  13/07/2018      1947.0      Midblock  ...   \n",
       "145122 -31.890679  13/07/2018      1035.0      Midblock  ...   \n",
       "145123 -31.884494  13/07/2018      1145.0      Midblock  ...   \n",
       "\n",
       "       TOTAL_BIKE_INVOLVED TOTAL_TRUCK_INVOLVED TOTAL_HEAVY_TRUCK_INVOLVED  \\\n",
       "0                        0                    0                          0   \n",
       "1                        0                    0                          0   \n",
       "2                        0                    0                          0   \n",
       "3                        0                    0                          0   \n",
       "4                        0                    0                          0   \n",
       "...                    ...                  ...                        ...   \n",
       "145119                   0                    0                          0   \n",
       "145120                   0                    0                          0   \n",
       "145121                   0                    0                          0   \n",
       "145122                   0                    0                          0   \n",
       "145123                   0                    0                          0   \n",
       "\n",
       "        TOTAL_MOTOR_CYCLE_INVOLVED  TOTAL_OTHER_VEHICLES_INVOLVED  \\\n",
       "0                                0                              1   \n",
       "1                                0                              3   \n",
       "2                                0                              2   \n",
       "3                                0                              2   \n",
       "4                                0                              1   \n",
       "...                            ...                            ...   \n",
       "145119                           0                              2   \n",
       "145120                           0                              2   \n",
       "145121                           0                              1   \n",
       "145122                           0                              2   \n",
       "145123                           0                              2   \n",
       "\n",
       "        TOTAL_PEDESTRIANS_INVOLVED  CRASH_TIME_HRS  CRASH_TIME_MIN  \\\n",
       "0                                0               1              30   \n",
       "1                                0              13              45   \n",
       "2                                0              12              30   \n",
       "3                                0              11              15   \n",
       "4                                0              15              20   \n",
       "...                            ...             ...             ...   \n",
       "145119                           0              20              55   \n",
       "145120                           0              13              30   \n",
       "145121                           1              19              47   \n",
       "145122                           0              10              35   \n",
       "145123                           0              11              45   \n",
       "\n",
       "        CRASH_DAYWEEK  CRASH_TIMEDAY  \n",
       "0              Sunday          Night  \n",
       "1              Sunday      Afternoon  \n",
       "2              Sunday      Afternoon  \n",
       "3              Sunday        Morning  \n",
       "4              Sunday      Afternoon  \n",
       "...               ...            ...  \n",
       "145119         Friday        Evening  \n",
       "145120         Friday      Afternoon  \n",
       "145121         Friday        Evening  \n",
       "145122         Friday        Morning  \n",
       "145123         Friday        Morning  \n",
       "\n",
       "[145124 rows x 23 columns]"
      ],
      "text/html": "<div>\n<style scoped>\n    .dataframe tbody tr th:only-of-type {\n        vertical-align: middle;\n    }\n\n    .dataframe tbody tr th {\n        vertical-align: top;\n    }\n\n    .dataframe thead th {\n        text-align: right;\n    }\n</style>\n<table border=\"1\" class=\"dataframe\">\n  <thead>\n    <tr style=\"text-align: right;\">\n      <th></th>\n      <th>Unnamed: 0</th>\n      <th>ACC_ID</th>\n      <th>ROAD_NO</th>\n      <th>COMMON_ROAD_NAME</th>\n      <th>CWAY</th>\n      <th>LONGITUDE</th>\n      <th>LATITUDE</th>\n      <th>CRASH_DATE</th>\n      <th>CRASH_TIME</th>\n      <th>ACCIDENT_TYPE</th>\n      <th>...</th>\n      <th>TOTAL_BIKE_INVOLVED</th>\n      <th>TOTAL_TRUCK_INVOLVED</th>\n      <th>TOTAL_HEAVY_TRUCK_INVOLVED</th>\n      <th>TOTAL_MOTOR_CYCLE_INVOLVED</th>\n      <th>TOTAL_OTHER_VEHICLES_INVOLVED</th>\n      <th>TOTAL_PEDESTRIANS_INVOLVED</th>\n      <th>CRASH_TIME_HRS</th>\n      <th>CRASH_TIME_MIN</th>\n      <th>CRASH_DAYWEEK</th>\n      <th>CRASH_TIMEDAY</th>\n    </tr>\n  </thead>\n  <tbody>\n    <tr>\n      <th>0</th>\n      <td>0</td>\n      <td>10034076</td>\n      <td>1250106</td>\n      <td>Huntriss Rd</td>\n      <td>S</td>\n      <td>115.787126</td>\n      <td>-31.888018</td>\n      <td>09/06/2019</td>\n      <td>130.0</td>\n      <td>Intersection</td>\n      <td>...</td>\n      <td>0</td>\n      <td>0</td>\n      <td>0</td>\n      <td>0</td>\n      <td>1</td>\n      <td>0</td>\n      <td>1</td>\n      <td>30</td>\n      <td>Sunday</td>\n      <td>Night</td>\n    </tr>\n    <tr>\n      <th>1</th>\n      <td>1</td>\n      <td>10034083</td>\n      <td>1311665</td>\n      <td>Joondalup Dr</td>\n      <td>L</td>\n      <td>115.781050</td>\n      <td>-31.770677</td>\n      <td>09/06/2019</td>\n      <td>1345.0</td>\n      <td>Intersection</td>\n      <td>...</td>\n      <td>0</td>\n      <td>0</td>\n      <td>0</td>\n      <td>0</td>\n      <td>3</td>\n      <td>0</td>\n      <td>13</td>\n      <td>45</td>\n      <td>Sunday</td>\n      <td>Afternoon</td>\n    </tr>\n    <tr>\n      <th>2</th>\n      <td>2</td>\n      <td>10036078</td>\n      <td>1110006</td>\n      <td>Lord St</td>\n      <td>S</td>\n      <td>115.954109</td>\n      <td>-31.900235</td>\n      <td>09/06/2019</td>\n      <td>1230.0</td>\n      <td>Intersection</td>\n      <td>...</td>\n      <td>0</td>\n      <td>0</td>\n      <td>0</td>\n      <td>0</td>\n      <td>2</td>\n      <td>0</td>\n      <td>12</td>\n      <td>30</td>\n      <td>Sunday</td>\n      <td>Afternoon</td>\n    </tr>\n    <tr>\n      <th>3</th>\n      <td>3</td>\n      <td>10036129</td>\n      <td>1300280</td>\n      <td>Fitzgerald St</td>\n      <td>S</td>\n      <td>115.859176</td>\n      <td>-31.932468</td>\n      <td>09/06/2019</td>\n      <td>1115.0</td>\n      <td>Midblock</td>\n      <td>...</td>\n      <td>0</td>\n      <td>0</td>\n      <td>0</td>\n      <td>0</td>\n      <td>2</td>\n      <td>0</td>\n      <td>11</td>\n      <td>15</td>\n      <td>Sunday</td>\n      <td>Morning</td>\n    </tr>\n    <tr>\n      <th>4</th>\n      <td>4</td>\n      <td>10014546</td>\n      <td>1102151</td>\n      <td>Connolly Dr</td>\n      <td>L</td>\n      <td>115.711603</td>\n      <td>-31.651690</td>\n      <td>09/06/2019</td>\n      <td>1520.0</td>\n      <td>Intersection</td>\n      <td>...</td>\n      <td>0</td>\n      <td>0</td>\n      <td>0</td>\n      <td>0</td>\n      <td>1</td>\n      <td>0</td>\n      <td>15</td>\n      <td>20</td>\n      <td>Sunday</td>\n      <td>Afternoon</td>\n    </tr>\n    <tr>\n      <th>...</th>\n      <td>...</td>\n      <td>...</td>\n      <td>...</td>\n      <td>...</td>\n      <td>...</td>\n      <td>...</td>\n      <td>...</td>\n      <td>...</td>\n      <td>...</td>\n      <td>...</td>\n      <td>...</td>\n      <td>...</td>\n      <td>...</td>\n      <td>...</td>\n      <td>...</td>\n      <td>...</td>\n      <td>...</td>\n      <td>...</td>\n      <td>...</td>\n      <td>...</td>\n      <td>...</td>\n    </tr>\n    <tr>\n      <th>145119</th>\n      <td>145587</td>\n      <td>9828256</td>\n      <td>H013</td>\n      <td>Canning Hwy</td>\n      <td>L</td>\n      <td>115.808584</td>\n      <td>-32.032091</td>\n      <td>13/07/2018</td>\n      <td>2055.0</td>\n      <td>Intersection</td>\n      <td>...</td>\n      <td>0</td>\n      <td>0</td>\n      <td>0</td>\n      <td>0</td>\n      <td>2</td>\n      <td>0</td>\n      <td>20</td>\n      <td>55</td>\n      <td>Friday</td>\n      <td>Evening</td>\n    </tr>\n    <tr>\n      <th>145120</th>\n      <td>145588</td>\n      <td>9828289</td>\n      <td>H035</td>\n      <td>Charles St</td>\n      <td>L</td>\n      <td>115.852651</td>\n      <td>-31.940140</td>\n      <td>13/07/2018</td>\n      <td>1330.0</td>\n      <td>Intersection</td>\n      <td>...</td>\n      <td>0</td>\n      <td>0</td>\n      <td>0</td>\n      <td>0</td>\n      <td>2</td>\n      <td>0</td>\n      <td>13</td>\n      <td>30</td>\n      <td>Friday</td>\n      <td>Afternoon</td>\n    </tr>\n    <tr>\n      <th>145121</th>\n      <td>145589</td>\n      <td>9801828</td>\n      <td>1070031</td>\n      <td>Currie St</td>\n      <td>S</td>\n      <td>115.753142</td>\n      <td>-32.342408</td>\n      <td>13/07/2018</td>\n      <td>1947.0</td>\n      <td>Midblock</td>\n      <td>...</td>\n      <td>0</td>\n      <td>0</td>\n      <td>0</td>\n      <td>0</td>\n      <td>1</td>\n      <td>1</td>\n      <td>19</td>\n      <td>47</td>\n      <td>Friday</td>\n      <td>Evening</td>\n    </tr>\n    <tr>\n      <th>145122</th>\n      <td>145590</td>\n      <td>9830313</td>\n      <td>1251035</td>\n      <td>Herbert St</td>\n      <td>S</td>\n      <td>115.777739</td>\n      <td>-31.890679</td>\n      <td>13/07/2018</td>\n      <td>1035.0</td>\n      <td>Midblock</td>\n      <td>...</td>\n      <td>0</td>\n      <td>0</td>\n      <td>0</td>\n      <td>0</td>\n      <td>2</td>\n      <td>0</td>\n      <td>10</td>\n      <td>35</td>\n      <td>Friday</td>\n      <td>Morning</td>\n    </tr>\n    <tr>\n      <th>145123</th>\n      <td>145591</td>\n      <td>9830411</td>\n      <td>1120138</td>\n      <td>Croesus St</td>\n      <td>S</td>\n      <td>115.921088</td>\n      <td>-31.884494</td>\n      <td>13/07/2018</td>\n      <td>1145.0</td>\n      <td>Midblock</td>\n      <td>...</td>\n      <td>0</td>\n      <td>0</td>\n      <td>0</td>\n      <td>0</td>\n      <td>2</td>\n      <td>0</td>\n      <td>11</td>\n      <td>45</td>\n      <td>Friday</td>\n      <td>Morning</td>\n    </tr>\n  </tbody>\n</table>\n<p>145124 rows × 23 columns</p>\n</div>"
     },
     "metadata": {},
     "execution_count": 2
    }
   ],
   "source": [
    "csv_file2 = \"crash_data2.csv\"\n",
    "Crash_df = pd.read_csv(csv_file2)\n",
    "Crash_df"
   ]
  },
  {
   "cell_type": "code",
   "execution_count": 3,
   "metadata": {},
   "outputs": [
    {
     "output_type": "execute_result",
     "data": {
      "text/plain": [
       "0         09/06/2019\n",
       "1         09/06/2019\n",
       "2         09/06/2019\n",
       "3         09/06/2019\n",
       "4         09/06/2019\n",
       "             ...    \n",
       "145119    13/07/2018\n",
       "145120    13/07/2018\n",
       "145121    13/07/2018\n",
       "145122    13/07/2018\n",
       "145123    13/07/2018\n",
       "Name: CRASH_DATE, Length: 145124, dtype: object"
      ]
     },
     "metadata": {},
     "execution_count": 3
    }
   ],
   "source": [
    "ML_data=Crash_df[['CRASH_TIME_HRS','CRASH_DAYWEEK','CRASH_DATE','ACC_ID']]\n",
    "ML_data.CRASH_DATE"
   ]
  },
  {
   "cell_type": "code",
   "execution_count": 4,
   "metadata": {},
   "outputs": [
    {
     "output_type": "execute_result",
     "data": {
      "text/plain": [
       "        CRASH_TIME_HRS CRASH_DAYWEEK  CRASH_DATE    ACC_ID  CRASH_YEAR\n",
       "0                    1        Sunday  09/06/2019  10034076        2019\n",
       "1                   13        Sunday  09/06/2019  10034083        2019\n",
       "2                   12        Sunday  09/06/2019  10036078        2019\n",
       "3                   11        Sunday  09/06/2019  10036129        2019\n",
       "4                   15        Sunday  09/06/2019  10014546        2019\n",
       "...                ...           ...         ...       ...         ...\n",
       "145119              20        Friday  13/07/2018   9828256        2018\n",
       "145120              13        Friday  13/07/2018   9828289        2018\n",
       "145121              19        Friday  13/07/2018   9801828        2018\n",
       "145122              10        Friday  13/07/2018   9830313        2018\n",
       "145123              11        Friday  13/07/2018   9830411        2018\n",
       "\n",
       "[145124 rows x 5 columns]"
      ],
      "text/html": "<div>\n<style scoped>\n    .dataframe tbody tr th:only-of-type {\n        vertical-align: middle;\n    }\n\n    .dataframe tbody tr th {\n        vertical-align: top;\n    }\n\n    .dataframe thead th {\n        text-align: right;\n    }\n</style>\n<table border=\"1\" class=\"dataframe\">\n  <thead>\n    <tr style=\"text-align: right;\">\n      <th></th>\n      <th>CRASH_TIME_HRS</th>\n      <th>CRASH_DAYWEEK</th>\n      <th>CRASH_DATE</th>\n      <th>ACC_ID</th>\n      <th>CRASH_YEAR</th>\n    </tr>\n  </thead>\n  <tbody>\n    <tr>\n      <th>0</th>\n      <td>1</td>\n      <td>Sunday</td>\n      <td>09/06/2019</td>\n      <td>10034076</td>\n      <td>2019</td>\n    </tr>\n    <tr>\n      <th>1</th>\n      <td>13</td>\n      <td>Sunday</td>\n      <td>09/06/2019</td>\n      <td>10034083</td>\n      <td>2019</td>\n    </tr>\n    <tr>\n      <th>2</th>\n      <td>12</td>\n      <td>Sunday</td>\n      <td>09/06/2019</td>\n      <td>10036078</td>\n      <td>2019</td>\n    </tr>\n    <tr>\n      <th>3</th>\n      <td>11</td>\n      <td>Sunday</td>\n      <td>09/06/2019</td>\n      <td>10036129</td>\n      <td>2019</td>\n    </tr>\n    <tr>\n      <th>4</th>\n      <td>15</td>\n      <td>Sunday</td>\n      <td>09/06/2019</td>\n      <td>10014546</td>\n      <td>2019</td>\n    </tr>\n    <tr>\n      <th>...</th>\n      <td>...</td>\n      <td>...</td>\n      <td>...</td>\n      <td>...</td>\n      <td>...</td>\n    </tr>\n    <tr>\n      <th>145119</th>\n      <td>20</td>\n      <td>Friday</td>\n      <td>13/07/2018</td>\n      <td>9828256</td>\n      <td>2018</td>\n    </tr>\n    <tr>\n      <th>145120</th>\n      <td>13</td>\n      <td>Friday</td>\n      <td>13/07/2018</td>\n      <td>9828289</td>\n      <td>2018</td>\n    </tr>\n    <tr>\n      <th>145121</th>\n      <td>19</td>\n      <td>Friday</td>\n      <td>13/07/2018</td>\n      <td>9801828</td>\n      <td>2018</td>\n    </tr>\n    <tr>\n      <th>145122</th>\n      <td>10</td>\n      <td>Friday</td>\n      <td>13/07/2018</td>\n      <td>9830313</td>\n      <td>2018</td>\n    </tr>\n    <tr>\n      <th>145123</th>\n      <td>11</td>\n      <td>Friday</td>\n      <td>13/07/2018</td>\n      <td>9830411</td>\n      <td>2018</td>\n    </tr>\n  </tbody>\n</table>\n<p>145124 rows × 5 columns</p>\n</div>"
     },
     "metadata": {},
     "execution_count": 4
    }
   ],
   "source": [
    "# Add day of the week column\n",
    "def Datesplitter(Date): \n",
    "    day, month, year = (int(i) for i in Date.split('/'))     \n",
    "    dayWeek = datetime.date(year, month, day) \n",
    "    return  year\n",
    "\n",
    "# date = '07/10/2020'\n",
    "# print(Datesplitter(date)[2]) \n",
    "ML_data['CRASH_YEAR'] = ML_data['CRASH_DATE'].apply(Datesplitter)\n",
    "ML_data"
   ]
  },
  {
   "cell_type": "code",
   "execution_count": 5,
   "metadata": {},
   "outputs": [
    {
     "output_type": "execute_result",
     "data": {
      "text/plain": [
       "     CRASH_YEAR CRASH_DAYWEEK  CRASH_TIME_HRS  ACC_ID\n",
       "0          2015        Friday               0      29\n",
       "1          2015        Friday               1      21\n",
       "2          2015        Friday               2      22\n",
       "3          2015        Friday               3       9\n",
       "4          2015        Friday               4      14\n",
       "..          ...           ...             ...     ...\n",
       "835        2019     Wednesday              19     144\n",
       "836        2019     Wednesday              20     107\n",
       "837        2019     Wednesday              21      87\n",
       "838        2019     Wednesday              22      56\n",
       "839        2019     Wednesday              23      35\n",
       "\n",
       "[840 rows x 4 columns]"
      ],
      "text/html": "<div>\n<style scoped>\n    .dataframe tbody tr th:only-of-type {\n        vertical-align: middle;\n    }\n\n    .dataframe tbody tr th {\n        vertical-align: top;\n    }\n\n    .dataframe thead th {\n        text-align: right;\n    }\n</style>\n<table border=\"1\" class=\"dataframe\">\n  <thead>\n    <tr style=\"text-align: right;\">\n      <th></th>\n      <th>CRASH_YEAR</th>\n      <th>CRASH_DAYWEEK</th>\n      <th>CRASH_TIME_HRS</th>\n      <th>ACC_ID</th>\n    </tr>\n  </thead>\n  <tbody>\n    <tr>\n      <th>0</th>\n      <td>2015</td>\n      <td>Friday</td>\n      <td>0</td>\n      <td>29</td>\n    </tr>\n    <tr>\n      <th>1</th>\n      <td>2015</td>\n      <td>Friday</td>\n      <td>1</td>\n      <td>21</td>\n    </tr>\n    <tr>\n      <th>2</th>\n      <td>2015</td>\n      <td>Friday</td>\n      <td>2</td>\n      <td>22</td>\n    </tr>\n    <tr>\n      <th>3</th>\n      <td>2015</td>\n      <td>Friday</td>\n      <td>3</td>\n      <td>9</td>\n    </tr>\n    <tr>\n      <th>4</th>\n      <td>2015</td>\n      <td>Friday</td>\n      <td>4</td>\n      <td>14</td>\n    </tr>\n    <tr>\n      <th>...</th>\n      <td>...</td>\n      <td>...</td>\n      <td>...</td>\n      <td>...</td>\n    </tr>\n    <tr>\n      <th>835</th>\n      <td>2019</td>\n      <td>Wednesday</td>\n      <td>19</td>\n      <td>144</td>\n    </tr>\n    <tr>\n      <th>836</th>\n      <td>2019</td>\n      <td>Wednesday</td>\n      <td>20</td>\n      <td>107</td>\n    </tr>\n    <tr>\n      <th>837</th>\n      <td>2019</td>\n      <td>Wednesday</td>\n      <td>21</td>\n      <td>87</td>\n    </tr>\n    <tr>\n      <th>838</th>\n      <td>2019</td>\n      <td>Wednesday</td>\n      <td>22</td>\n      <td>56</td>\n    </tr>\n    <tr>\n      <th>839</th>\n      <td>2019</td>\n      <td>Wednesday</td>\n      <td>23</td>\n      <td>35</td>\n    </tr>\n  </tbody>\n</table>\n<p>840 rows × 4 columns</p>\n</div>"
     },
     "metadata": {},
     "execution_count": 5
    }
   ],
   "source": [
    "ML_data_groupby=ML_data.groupby(['CRASH_YEAR','CRASH_DAYWEEK','CRASH_TIME_HRS',]).agg({'CRASH_YEAR':'max','CRASH_DAYWEEK':'max' ,'CRASH_TIME_HRS':'max','ACC_ID':'count'})\n",
    "ML_Data=ML_data_groupby.reset_index(drop=True)\n",
    "ML_Data"
   ]
  },
  {
   "cell_type": "code",
   "execution_count": 6,
   "metadata": {},
   "outputs": [
    {
     "output_type": "execute_result",
     "data": {
      "text/plain": [
       "0       29\n",
       "1       21\n",
       "2       22\n",
       "3        9\n",
       "4       14\n",
       "      ... \n",
       "835    144\n",
       "836    107\n",
       "837     87\n",
       "838     56\n",
       "839     35\n",
       "Name: ACC_ID, Length: 840, dtype: int64"
      ]
     },
     "metadata": {},
     "execution_count": 6
    }
   ],
   "source": [
    "ML_Data.ACC_ID"
   ]
  },
  {
   "cell_type": "code",
   "execution_count": 7,
   "metadata": {},
   "outputs": [
    {
     "output_type": "execute_result",
     "data": {
      "text/plain": [
       "(array([262., 120.,  72., 132., 112.,  38.,  20.,  51.,  20.,  13.]),\n",
       " array([  7. ,  64.1, 121.2, 178.3, 235.4, 292.5, 349.6, 406.7, 463.8,\n",
       "        520.9, 578. ]),\n",
       " <BarContainer object of 10 artists>)"
      ]
     },
     "metadata": {},
     "execution_count": 7
    },
    {
     "output_type": "display_data",
     "data": {
      "text/plain": "<Figure size 432x288 with 1 Axes>",
      "image/svg+xml": "<?xml version=\"1.0\" encoding=\"utf-8\" standalone=\"no\"?>\r\n<!DOCTYPE svg PUBLIC \"-//W3C//DTD SVG 1.1//EN\"\r\n  \"http://www.w3.org/Graphics/SVG/1.1/DTD/svg11.dtd\">\r\n<!-- Created with matplotlib (https://matplotlib.org/) -->\r\n<svg height=\"248.518125pt\" version=\"1.1\" viewBox=\"0 0 381.339863 248.518125\" width=\"381.339863pt\" xmlns=\"http://www.w3.org/2000/svg\" xmlns:xlink=\"http://www.w3.org/1999/xlink\">\r\n <metadata>\r\n  <rdf:RDF xmlns:cc=\"http://creativecommons.org/ns#\" xmlns:dc=\"http://purl.org/dc/elements/1.1/\" xmlns:rdf=\"http://www.w3.org/1999/02/22-rdf-syntax-ns#\">\r\n   <cc:Work>\r\n    <dc:type rdf:resource=\"http://purl.org/dc/dcmitype/StillImage\"/>\r\n    <dc:date>2020-11-05T21:17:24.234860</dc:date>\r\n    <dc:format>image/svg+xml</dc:format>\r\n    <dc:creator>\r\n     <cc:Agent>\r\n      <dc:title>Matplotlib v3.3.1, https://matplotlib.org/</dc:title>\r\n     </cc:Agent>\r\n    </dc:creator>\r\n   </cc:Work>\r\n  </rdf:RDF>\r\n </metadata>\r\n <defs>\r\n  <style type=\"text/css\">*{stroke-linecap:butt;stroke-linejoin:round;}</style>\r\n </defs>\r\n <g id=\"figure_1\">\r\n  <g id=\"patch_1\">\r\n   <path d=\"M 0 248.518125 \r\nL 381.339863 248.518125 \r\nL 381.339863 0 \r\nL 0 0 \r\nz\r\n\" style=\"fill:none;\"/>\r\n  </g>\r\n  <g id=\"axes_1\">\r\n   <g id=\"patch_2\">\r\n    <path d=\"M 33.2875 224.64 \r\nL 368.0875 224.64 \r\nL 368.0875 7.2 \r\nL 33.2875 7.2 \r\nz\r\n\" style=\"fill:#ffffff;\"/>\r\n   </g>\r\n   <g id=\"patch_3\">\r\n    <path clip-path=\"url(#pb21e62c50a)\" d=\"M 48.505682 224.64 \r\nL 78.942045 224.64 \r\nL 78.942045 17.554286 \r\nL 48.505682 17.554286 \r\nz\r\n\" style=\"fill:#1f77b4;\"/>\r\n   </g>\r\n   <g id=\"patch_4\">\r\n    <path clip-path=\"url(#pb21e62c50a)\" d=\"M 78.942045 224.64 \r\nL 109.378409 224.64 \r\nL 109.378409 129.791581 \r\nL 78.942045 129.791581 \r\nz\r\n\" style=\"fill:#1f77b4;\"/>\r\n   </g>\r\n   <g id=\"patch_5\">\r\n    <path clip-path=\"url(#pb21e62c50a)\" d=\"M 109.378409 224.64 \r\nL 139.814773 224.64 \r\nL 139.814773 167.730949 \r\nL 109.378409 167.730949 \r\nz\r\n\" style=\"fill:#1f77b4;\"/>\r\n   </g>\r\n   <g id=\"patch_6\">\r\n    <path clip-path=\"url(#pb21e62c50a)\" d=\"M 139.814773 224.64 \r\nL 170.251136 224.64 \r\nL 170.251136 120.306739 \r\nL 139.814773 120.306739 \r\nz\r\n\" style=\"fill:#1f77b4;\"/>\r\n   </g>\r\n   <g id=\"patch_7\">\r\n    <path clip-path=\"url(#pb21e62c50a)\" d=\"M 170.251136 224.64 \r\nL 200.6875 224.64 \r\nL 200.6875 136.114809 \r\nL 170.251136 136.114809 \r\nz\r\n\" style=\"fill:#1f77b4;\"/>\r\n   </g>\r\n   <g id=\"patch_8\">\r\n    <path clip-path=\"url(#pb21e62c50a)\" d=\"M 200.6875 224.64 \r\nL 231.123864 224.64 \r\nL 231.123864 194.604667 \r\nL 200.6875 194.604667 \r\nz\r\n\" style=\"fill:#1f77b4;\"/>\r\n   </g>\r\n   <g id=\"patch_9\">\r\n    <path clip-path=\"url(#pb21e62c50a)\" d=\"M 231.123864 224.64 \r\nL 261.560227 224.64 \r\nL 261.560227 208.83193 \r\nL 231.123864 208.83193 \r\nz\r\n\" style=\"fill:#1f77b4;\"/>\r\n   </g>\r\n   <g id=\"patch_10\">\r\n    <path clip-path=\"url(#pb21e62c50a)\" d=\"M 261.560227 224.64 \r\nL 291.996591 224.64 \r\nL 291.996591 184.329422 \r\nL 261.560227 184.329422 \r\nz\r\n\" style=\"fill:#1f77b4;\"/>\r\n   </g>\r\n   <g id=\"patch_11\">\r\n    <path clip-path=\"url(#pb21e62c50a)\" d=\"M 291.996591 224.64 \r\nL 322.432955 224.64 \r\nL 322.432955 208.83193 \r\nL 291.996591 208.83193 \r\nz\r\n\" style=\"fill:#1f77b4;\"/>\r\n   </g>\r\n   <g id=\"patch_12\">\r\n    <path clip-path=\"url(#pb21e62c50a)\" d=\"M 322.432955 224.64 \r\nL 352.869318 224.64 \r\nL 352.869318 214.364755 \r\nL 322.432955 214.364755 \r\nz\r\n\" style=\"fill:#1f77b4;\"/>\r\n   </g>\r\n   <g id=\"matplotlib.axis_1\">\r\n    <g id=\"xtick_1\">\r\n     <g id=\"line2d_1\">\r\n      <defs>\r\n       <path d=\"M 0 0 \r\nL 0 3.5 \r\n\" id=\"m652063b6d1\" style=\"stroke:#000000;stroke-width:0.8;\"/>\r\n      </defs>\r\n      <g>\r\n       <use style=\"stroke:#000000;stroke-width:0.8;\" x=\"44.774429\" xlink:href=\"#m652063b6d1\" y=\"224.64\"/>\r\n      </g>\r\n     </g>\r\n     <g id=\"text_1\">\r\n      <!-- 0 -->\r\n      <g transform=\"translate(41.593179 239.238437)scale(0.1 -0.1)\">\r\n       <defs>\r\n        <path d=\"M 31.78125 66.40625 \r\nQ 24.171875 66.40625 20.328125 58.90625 \r\nQ 16.5 51.421875 16.5 36.375 \r\nQ 16.5 21.390625 20.328125 13.890625 \r\nQ 24.171875 6.390625 31.78125 6.390625 \r\nQ 39.453125 6.390625 43.28125 13.890625 \r\nQ 47.125 21.390625 47.125 36.375 \r\nQ 47.125 51.421875 43.28125 58.90625 \r\nQ 39.453125 66.40625 31.78125 66.40625 \r\nz\r\nM 31.78125 74.21875 \r\nQ 44.046875 74.21875 50.515625 64.515625 \r\nQ 56.984375 54.828125 56.984375 36.375 \r\nQ 56.984375 17.96875 50.515625 8.265625 \r\nQ 44.046875 -1.421875 31.78125 -1.421875 \r\nQ 19.53125 -1.421875 13.0625 8.265625 \r\nQ 6.59375 17.96875 6.59375 36.375 \r\nQ 6.59375 54.828125 13.0625 64.515625 \r\nQ 19.53125 74.21875 31.78125 74.21875 \r\nz\r\n\" id=\"DejaVuSans-48\"/>\r\n       </defs>\r\n       <use xlink:href=\"#DejaVuSans-48\"/>\r\n      </g>\r\n     </g>\r\n    </g>\r\n    <g id=\"xtick_2\">\r\n     <g id=\"line2d_2\">\r\n      <g>\r\n       <use style=\"stroke:#000000;stroke-width:0.8;\" x=\"98.078043\" xlink:href=\"#m652063b6d1\" y=\"224.64\"/>\r\n      </g>\r\n     </g>\r\n     <g id=\"text_2\">\r\n      <!-- 100 -->\r\n      <g transform=\"translate(88.534293 239.238437)scale(0.1 -0.1)\">\r\n       <defs>\r\n        <path d=\"M 12.40625 8.296875 \r\nL 28.515625 8.296875 \r\nL 28.515625 63.921875 \r\nL 10.984375 60.40625 \r\nL 10.984375 69.390625 \r\nL 28.421875 72.90625 \r\nL 38.28125 72.90625 \r\nL 38.28125 8.296875 \r\nL 54.390625 8.296875 \r\nL 54.390625 0 \r\nL 12.40625 0 \r\nz\r\n\" id=\"DejaVuSans-49\"/>\r\n       </defs>\r\n       <use xlink:href=\"#DejaVuSans-49\"/>\r\n       <use x=\"63.623047\" xlink:href=\"#DejaVuSans-48\"/>\r\n       <use x=\"127.246094\" xlink:href=\"#DejaVuSans-48\"/>\r\n      </g>\r\n     </g>\r\n    </g>\r\n    <g id=\"xtick_3\">\r\n     <g id=\"line2d_3\">\r\n      <g>\r\n       <use style=\"stroke:#000000;stroke-width:0.8;\" x=\"151.381657\" xlink:href=\"#m652063b6d1\" y=\"224.64\"/>\r\n      </g>\r\n     </g>\r\n     <g id=\"text_3\">\r\n      <!-- 200 -->\r\n      <g transform=\"translate(141.837907 239.238437)scale(0.1 -0.1)\">\r\n       <defs>\r\n        <path d=\"M 19.1875 8.296875 \r\nL 53.609375 8.296875 \r\nL 53.609375 0 \r\nL 7.328125 0 \r\nL 7.328125 8.296875 \r\nQ 12.9375 14.109375 22.625 23.890625 \r\nQ 32.328125 33.6875 34.8125 36.53125 \r\nQ 39.546875 41.84375 41.421875 45.53125 \r\nQ 43.3125 49.21875 43.3125 52.78125 \r\nQ 43.3125 58.59375 39.234375 62.25 \r\nQ 35.15625 65.921875 28.609375 65.921875 \r\nQ 23.96875 65.921875 18.8125 64.3125 \r\nQ 13.671875 62.703125 7.8125 59.421875 \r\nL 7.8125 69.390625 \r\nQ 13.765625 71.78125 18.9375 73 \r\nQ 24.125 74.21875 28.421875 74.21875 \r\nQ 39.75 74.21875 46.484375 68.546875 \r\nQ 53.21875 62.890625 53.21875 53.421875 \r\nQ 53.21875 48.921875 51.53125 44.890625 \r\nQ 49.859375 40.875 45.40625 35.40625 \r\nQ 44.1875 33.984375 37.640625 27.21875 \r\nQ 31.109375 20.453125 19.1875 8.296875 \r\nz\r\n\" id=\"DejaVuSans-50\"/>\r\n       </defs>\r\n       <use xlink:href=\"#DejaVuSans-50\"/>\r\n       <use x=\"63.623047\" xlink:href=\"#DejaVuSans-48\"/>\r\n       <use x=\"127.246094\" xlink:href=\"#DejaVuSans-48\"/>\r\n      </g>\r\n     </g>\r\n    </g>\r\n    <g id=\"xtick_4\">\r\n     <g id=\"line2d_4\">\r\n      <g>\r\n       <use style=\"stroke:#000000;stroke-width:0.8;\" x=\"204.685271\" xlink:href=\"#m652063b6d1\" y=\"224.64\"/>\r\n      </g>\r\n     </g>\r\n     <g id=\"text_4\">\r\n      <!-- 300 -->\r\n      <g transform=\"translate(195.141521 239.238437)scale(0.1 -0.1)\">\r\n       <defs>\r\n        <path d=\"M 40.578125 39.3125 \r\nQ 47.65625 37.796875 51.625 33 \r\nQ 55.609375 28.21875 55.609375 21.1875 \r\nQ 55.609375 10.40625 48.1875 4.484375 \r\nQ 40.765625 -1.421875 27.09375 -1.421875 \r\nQ 22.515625 -1.421875 17.65625 -0.515625 \r\nQ 12.796875 0.390625 7.625 2.203125 \r\nL 7.625 11.71875 \r\nQ 11.71875 9.328125 16.59375 8.109375 \r\nQ 21.484375 6.890625 26.8125 6.890625 \r\nQ 36.078125 6.890625 40.9375 10.546875 \r\nQ 45.796875 14.203125 45.796875 21.1875 \r\nQ 45.796875 27.640625 41.28125 31.265625 \r\nQ 36.765625 34.90625 28.71875 34.90625 \r\nL 20.21875 34.90625 \r\nL 20.21875 43.015625 \r\nL 29.109375 43.015625 \r\nQ 36.375 43.015625 40.234375 45.921875 \r\nQ 44.09375 48.828125 44.09375 54.296875 \r\nQ 44.09375 59.90625 40.109375 62.90625 \r\nQ 36.140625 65.921875 28.71875 65.921875 \r\nQ 24.65625 65.921875 20.015625 65.03125 \r\nQ 15.375 64.15625 9.8125 62.3125 \r\nL 9.8125 71.09375 \r\nQ 15.4375 72.65625 20.34375 73.4375 \r\nQ 25.25 74.21875 29.59375 74.21875 \r\nQ 40.828125 74.21875 47.359375 69.109375 \r\nQ 53.90625 64.015625 53.90625 55.328125 \r\nQ 53.90625 49.265625 50.4375 45.09375 \r\nQ 46.96875 40.921875 40.578125 39.3125 \r\nz\r\n\" id=\"DejaVuSans-51\"/>\r\n       </defs>\r\n       <use xlink:href=\"#DejaVuSans-51\"/>\r\n       <use x=\"63.623047\" xlink:href=\"#DejaVuSans-48\"/>\r\n       <use x=\"127.246094\" xlink:href=\"#DejaVuSans-48\"/>\r\n      </g>\r\n     </g>\r\n    </g>\r\n    <g id=\"xtick_5\">\r\n     <g id=\"line2d_5\">\r\n      <g>\r\n       <use style=\"stroke:#000000;stroke-width:0.8;\" x=\"257.988885\" xlink:href=\"#m652063b6d1\" y=\"224.64\"/>\r\n      </g>\r\n     </g>\r\n     <g id=\"text_5\">\r\n      <!-- 400 -->\r\n      <g transform=\"translate(248.445135 239.238437)scale(0.1 -0.1)\">\r\n       <defs>\r\n        <path d=\"M 37.796875 64.3125 \r\nL 12.890625 25.390625 \r\nL 37.796875 25.390625 \r\nz\r\nM 35.203125 72.90625 \r\nL 47.609375 72.90625 \r\nL 47.609375 25.390625 \r\nL 58.015625 25.390625 \r\nL 58.015625 17.1875 \r\nL 47.609375 17.1875 \r\nL 47.609375 0 \r\nL 37.796875 0 \r\nL 37.796875 17.1875 \r\nL 4.890625 17.1875 \r\nL 4.890625 26.703125 \r\nz\r\n\" id=\"DejaVuSans-52\"/>\r\n       </defs>\r\n       <use xlink:href=\"#DejaVuSans-52\"/>\r\n       <use x=\"63.623047\" xlink:href=\"#DejaVuSans-48\"/>\r\n       <use x=\"127.246094\" xlink:href=\"#DejaVuSans-48\"/>\r\n      </g>\r\n     </g>\r\n    </g>\r\n    <g id=\"xtick_6\">\r\n     <g id=\"line2d_6\">\r\n      <g>\r\n       <use style=\"stroke:#000000;stroke-width:0.8;\" x=\"311.292499\" xlink:href=\"#m652063b6d1\" y=\"224.64\"/>\r\n      </g>\r\n     </g>\r\n     <g id=\"text_6\">\r\n      <!-- 500 -->\r\n      <g transform=\"translate(301.748749 239.238437)scale(0.1 -0.1)\">\r\n       <defs>\r\n        <path d=\"M 10.796875 72.90625 \r\nL 49.515625 72.90625 \r\nL 49.515625 64.59375 \r\nL 19.828125 64.59375 \r\nL 19.828125 46.734375 \r\nQ 21.96875 47.46875 24.109375 47.828125 \r\nQ 26.265625 48.1875 28.421875 48.1875 \r\nQ 40.625 48.1875 47.75 41.5 \r\nQ 54.890625 34.8125 54.890625 23.390625 \r\nQ 54.890625 11.625 47.5625 5.09375 \r\nQ 40.234375 -1.421875 26.90625 -1.421875 \r\nQ 22.3125 -1.421875 17.546875 -0.640625 \r\nQ 12.796875 0.140625 7.71875 1.703125 \r\nL 7.71875 11.625 \r\nQ 12.109375 9.234375 16.796875 8.0625 \r\nQ 21.484375 6.890625 26.703125 6.890625 \r\nQ 35.15625 6.890625 40.078125 11.328125 \r\nQ 45.015625 15.765625 45.015625 23.390625 \r\nQ 45.015625 31 40.078125 35.4375 \r\nQ 35.15625 39.890625 26.703125 39.890625 \r\nQ 22.75 39.890625 18.8125 39.015625 \r\nQ 14.890625 38.140625 10.796875 36.28125 \r\nz\r\n\" id=\"DejaVuSans-53\"/>\r\n       </defs>\r\n       <use xlink:href=\"#DejaVuSans-53\"/>\r\n       <use x=\"63.623047\" xlink:href=\"#DejaVuSans-48\"/>\r\n       <use x=\"127.246094\" xlink:href=\"#DejaVuSans-48\"/>\r\n      </g>\r\n     </g>\r\n    </g>\r\n    <g id=\"xtick_7\">\r\n     <g id=\"line2d_7\">\r\n      <g>\r\n       <use style=\"stroke:#000000;stroke-width:0.8;\" x=\"364.596113\" xlink:href=\"#m652063b6d1\" y=\"224.64\"/>\r\n      </g>\r\n     </g>\r\n     <g id=\"text_7\">\r\n      <!-- 600 -->\r\n      <g transform=\"translate(355.052363 239.238437)scale(0.1 -0.1)\">\r\n       <defs>\r\n        <path d=\"M 33.015625 40.375 \r\nQ 26.375 40.375 22.484375 35.828125 \r\nQ 18.609375 31.296875 18.609375 23.390625 \r\nQ 18.609375 15.53125 22.484375 10.953125 \r\nQ 26.375 6.390625 33.015625 6.390625 \r\nQ 39.65625 6.390625 43.53125 10.953125 \r\nQ 47.40625 15.53125 47.40625 23.390625 \r\nQ 47.40625 31.296875 43.53125 35.828125 \r\nQ 39.65625 40.375 33.015625 40.375 \r\nz\r\nM 52.59375 71.296875 \r\nL 52.59375 62.3125 \r\nQ 48.875 64.0625 45.09375 64.984375 \r\nQ 41.3125 65.921875 37.59375 65.921875 \r\nQ 27.828125 65.921875 22.671875 59.328125 \r\nQ 17.53125 52.734375 16.796875 39.40625 \r\nQ 19.671875 43.65625 24.015625 45.921875 \r\nQ 28.375 48.1875 33.59375 48.1875 \r\nQ 44.578125 48.1875 50.953125 41.515625 \r\nQ 57.328125 34.859375 57.328125 23.390625 \r\nQ 57.328125 12.15625 50.6875 5.359375 \r\nQ 44.046875 -1.421875 33.015625 -1.421875 \r\nQ 20.359375 -1.421875 13.671875 8.265625 \r\nQ 6.984375 17.96875 6.984375 36.375 \r\nQ 6.984375 53.65625 15.1875 63.9375 \r\nQ 23.390625 74.21875 37.203125 74.21875 \r\nQ 40.921875 74.21875 44.703125 73.484375 \r\nQ 48.484375 72.75 52.59375 71.296875 \r\nz\r\n\" id=\"DejaVuSans-54\"/>\r\n       </defs>\r\n       <use xlink:href=\"#DejaVuSans-54\"/>\r\n       <use x=\"63.623047\" xlink:href=\"#DejaVuSans-48\"/>\r\n       <use x=\"127.246094\" xlink:href=\"#DejaVuSans-48\"/>\r\n      </g>\r\n     </g>\r\n    </g>\r\n   </g>\r\n   <g id=\"matplotlib.axis_2\">\r\n    <g id=\"ytick_1\">\r\n     <g id=\"line2d_8\">\r\n      <defs>\r\n       <path d=\"M 0 0 \r\nL -3.5 0 \r\n\" id=\"m0bcbd9362a\" style=\"stroke:#000000;stroke-width:0.8;\"/>\r\n      </defs>\r\n      <g>\r\n       <use style=\"stroke:#000000;stroke-width:0.8;\" x=\"33.2875\" xlink:href=\"#m0bcbd9362a\" y=\"224.64\"/>\r\n      </g>\r\n     </g>\r\n     <g id=\"text_8\">\r\n      <!-- 0 -->\r\n      <g transform=\"translate(19.925 228.439219)scale(0.1 -0.1)\">\r\n       <use xlink:href=\"#DejaVuSans-48\"/>\r\n      </g>\r\n     </g>\r\n    </g>\r\n    <g id=\"ytick_2\">\r\n     <g id=\"line2d_9\">\r\n      <g>\r\n       <use style=\"stroke:#000000;stroke-width:0.8;\" x=\"33.2875\" xlink:href=\"#m0bcbd9362a\" y=\"185.119826\"/>\r\n      </g>\r\n     </g>\r\n     <g id=\"text_9\">\r\n      <!-- 50 -->\r\n      <g transform=\"translate(13.5625 188.919044)scale(0.1 -0.1)\">\r\n       <use xlink:href=\"#DejaVuSans-53\"/>\r\n       <use x=\"63.623047\" xlink:href=\"#DejaVuSans-48\"/>\r\n      </g>\r\n     </g>\r\n    </g>\r\n    <g id=\"ytick_3\">\r\n     <g id=\"line2d_10\">\r\n      <g>\r\n       <use style=\"stroke:#000000;stroke-width:0.8;\" x=\"33.2875\" xlink:href=\"#m0bcbd9362a\" y=\"145.599651\"/>\r\n      </g>\r\n     </g>\r\n     <g id=\"text_10\">\r\n      <!-- 100 -->\r\n      <g transform=\"translate(7.2 149.39887)scale(0.1 -0.1)\">\r\n       <use xlink:href=\"#DejaVuSans-49\"/>\r\n       <use x=\"63.623047\" xlink:href=\"#DejaVuSans-48\"/>\r\n       <use x=\"127.246094\" xlink:href=\"#DejaVuSans-48\"/>\r\n      </g>\r\n     </g>\r\n    </g>\r\n    <g id=\"ytick_4\">\r\n     <g id=\"line2d_11\">\r\n      <g>\r\n       <use style=\"stroke:#000000;stroke-width:0.8;\" x=\"33.2875\" xlink:href=\"#m0bcbd9362a\" y=\"106.079477\"/>\r\n      </g>\r\n     </g>\r\n     <g id=\"text_11\">\r\n      <!-- 150 -->\r\n      <g transform=\"translate(7.2 109.878695)scale(0.1 -0.1)\">\r\n       <use xlink:href=\"#DejaVuSans-49\"/>\r\n       <use x=\"63.623047\" xlink:href=\"#DejaVuSans-53\"/>\r\n       <use x=\"127.246094\" xlink:href=\"#DejaVuSans-48\"/>\r\n      </g>\r\n     </g>\r\n    </g>\r\n    <g id=\"ytick_5\">\r\n     <g id=\"line2d_12\">\r\n      <g>\r\n       <use style=\"stroke:#000000;stroke-width:0.8;\" x=\"33.2875\" xlink:href=\"#m0bcbd9362a\" y=\"66.559302\"/>\r\n      </g>\r\n     </g>\r\n     <g id=\"text_12\">\r\n      <!-- 200 -->\r\n      <g transform=\"translate(7.2 70.358521)scale(0.1 -0.1)\">\r\n       <use xlink:href=\"#DejaVuSans-50\"/>\r\n       <use x=\"63.623047\" xlink:href=\"#DejaVuSans-48\"/>\r\n       <use x=\"127.246094\" xlink:href=\"#DejaVuSans-48\"/>\r\n      </g>\r\n     </g>\r\n    </g>\r\n    <g id=\"ytick_6\">\r\n     <g id=\"line2d_13\">\r\n      <g>\r\n       <use style=\"stroke:#000000;stroke-width:0.8;\" x=\"33.2875\" xlink:href=\"#m0bcbd9362a\" y=\"27.039128\"/>\r\n      </g>\r\n     </g>\r\n     <g id=\"text_13\">\r\n      <!-- 250 -->\r\n      <g transform=\"translate(7.2 30.838346)scale(0.1 -0.1)\">\r\n       <use xlink:href=\"#DejaVuSans-50\"/>\r\n       <use x=\"63.623047\" xlink:href=\"#DejaVuSans-53\"/>\r\n       <use x=\"127.246094\" xlink:href=\"#DejaVuSans-48\"/>\r\n      </g>\r\n     </g>\r\n    </g>\r\n   </g>\r\n   <g id=\"patch_13\">\r\n    <path d=\"M 33.2875 224.64 \r\nL 33.2875 7.2 \r\n\" style=\"fill:none;stroke:#000000;stroke-linecap:square;stroke-linejoin:miter;stroke-width:0.8;\"/>\r\n   </g>\r\n   <g id=\"patch_14\">\r\n    <path d=\"M 368.0875 224.64 \r\nL 368.0875 7.2 \r\n\" style=\"fill:none;stroke:#000000;stroke-linecap:square;stroke-linejoin:miter;stroke-width:0.8;\"/>\r\n   </g>\r\n   <g id=\"patch_15\">\r\n    <path d=\"M 33.2875 224.64 \r\nL 368.0875 224.64 \r\n\" style=\"fill:none;stroke:#000000;stroke-linecap:square;stroke-linejoin:miter;stroke-width:0.8;\"/>\r\n   </g>\r\n   <g id=\"patch_16\">\r\n    <path d=\"M 33.2875 7.2 \r\nL 368.0875 7.2 \r\n\" style=\"fill:none;stroke:#000000;stroke-linecap:square;stroke-linejoin:miter;stroke-width:0.8;\"/>\r\n   </g>\r\n  </g>\r\n </g>\r\n <defs>\r\n  <clipPath id=\"pb21e62c50a\">\r\n   <rect height=\"217.44\" width=\"334.8\" x=\"33.2875\" y=\"7.2\"/>\r\n  </clipPath>\r\n </defs>\r\n</svg>\r\n",
      "image/png": "[encoded data removed]"
     },
     "metadata": {
      "needs_background": "light"
     }
    }
   ],
   "source": [
    "import matplotlib.pyplot as plt\n",
    "plt.hist(ML_Data.ACC_ID)"
   ]
  },
  {
   "cell_type": "code",
   "execution_count": 8,
   "metadata": {},
   "outputs": [
    {
     "output_type": "execute_result",
     "data": {
      "text/plain": [
       "     CRASH_YEAR CRASH_DAYWEEK  CRASH_TIME_HRS  ACC_ID      TYPE\n",
       "0          2015        Friday               0      29      Safe\n",
       "1          2015        Friday               1      21      Safe\n",
       "2          2015        Friday               2      22      Safe\n",
       "3          2015        Friday               3       9      Safe\n",
       "4          2015        Friday               4      14      Safe\n",
       "..          ...           ...             ...     ...       ...\n",
       "835        2019     Wednesday              19     144  Modarate\n",
       "836        2019     Wednesday              20     107  Modarate\n",
       "837        2019     Wednesday              21      87      Safe\n",
       "838        2019     Wednesday              22      56      Safe\n",
       "839        2019     Wednesday              23      35      Safe\n",
       "\n",
       "[840 rows x 5 columns]"
      ],
      "text/html": "<div>\n<style scoped>\n    .dataframe tbody tr th:only-of-type {\n        vertical-align: middle;\n    }\n\n    .dataframe tbody tr th {\n        vertical-align: top;\n    }\n\n    .dataframe thead th {\n        text-align: right;\n    }\n</style>\n<table border=\"1\" class=\"dataframe\">\n  <thead>\n    <tr style=\"text-align: right;\">\n      <th></th>\n      <th>CRASH_YEAR</th>\n      <th>CRASH_DAYWEEK</th>\n      <th>CRASH_TIME_HRS</th>\n      <th>ACC_ID</th>\n      <th>TYPE</th>\n    </tr>\n  </thead>\n  <tbody>\n    <tr>\n      <th>0</th>\n      <td>2015</td>\n      <td>Friday</td>\n      <td>0</td>\n      <td>29</td>\n      <td>Safe</td>\n    </tr>\n    <tr>\n      <th>1</th>\n      <td>2015</td>\n      <td>Friday</td>\n      <td>1</td>\n      <td>21</td>\n      <td>Safe</td>\n    </tr>\n    <tr>\n      <th>2</th>\n      <td>2015</td>\n      <td>Friday</td>\n      <td>2</td>\n      <td>22</td>\n      <td>Safe</td>\n    </tr>\n    <tr>\n      <th>3</th>\n      <td>2015</td>\n      <td>Friday</td>\n      <td>3</td>\n      <td>9</td>\n      <td>Safe</td>\n    </tr>\n    <tr>\n      <th>4</th>\n      <td>2015</td>\n      <td>Friday</td>\n      <td>4</td>\n      <td>14</td>\n      <td>Safe</td>\n    </tr>\n    <tr>\n      <th>...</th>\n      <td>...</td>\n      <td>...</td>\n      <td>...</td>\n      <td>...</td>\n      <td>...</td>\n    </tr>\n    <tr>\n      <th>835</th>\n      <td>2019</td>\n      <td>Wednesday</td>\n      <td>19</td>\n      <td>144</td>\n      <td>Modarate</td>\n    </tr>\n    <tr>\n      <th>836</th>\n      <td>2019</td>\n      <td>Wednesday</td>\n      <td>20</td>\n      <td>107</td>\n      <td>Modarate</td>\n    </tr>\n    <tr>\n      <th>837</th>\n      <td>2019</td>\n      <td>Wednesday</td>\n      <td>21</td>\n      <td>87</td>\n      <td>Safe</td>\n    </tr>\n    <tr>\n      <th>838</th>\n      <td>2019</td>\n      <td>Wednesday</td>\n      <td>22</td>\n      <td>56</td>\n      <td>Safe</td>\n    </tr>\n    <tr>\n      <th>839</th>\n      <td>2019</td>\n      <td>Wednesday</td>\n      <td>23</td>\n      <td>35</td>\n      <td>Safe</td>\n    </tr>\n  </tbody>\n</table>\n<p>840 rows × 5 columns</p>\n</div>"
     },
     "metadata": {},
     "execution_count": 8
    }
   ],
   "source": [
    "# Add day of the week column\n",
    "def ACC_Cat(number): \n",
    "    if (number < 100): return \"Safe\"\n",
    "    elif (number <200): return \"Modarate\"\n",
    "    elif (number < 350): return \"Dangerous\"\n",
    "    else: return \"Severely Dangerous\"\n",
    "# date = '07/10/2020'\n",
    "# print(Datesplitter(date)[2]) \n",
    "ML_Data['TYPE'] = ML_Data['ACC_ID'].apply(ACC_Cat)\n",
    "ML_Data"
   ]
  },
  {
   "cell_type": "code",
   "execution_count": 9,
   "metadata": {},
   "outputs": [
    {
     "output_type": "execute_result",
     "data": {
      "text/plain": [
       "     CRASH_YEAR CRASH_DAYWEEK  CRASH_TIME_HRS  ACC_ID      TYPE  TYPE_NO\n",
       "0          2015        Friday               0      29      Safe        1\n",
       "1          2015        Friday               1      21      Safe        1\n",
       "2          2015        Friday               2      22      Safe        1\n",
       "3          2015        Friday               3       9      Safe        1\n",
       "4          2015        Friday               4      14      Safe        1\n",
       "..          ...           ...             ...     ...       ...      ...\n",
       "835        2019     Wednesday              19     144  Modarate        2\n",
       "836        2019     Wednesday              20     107  Modarate        2\n",
       "837        2019     Wednesday              21      87      Safe        1\n",
       "838        2019     Wednesday              22      56      Safe        1\n",
       "839        2019     Wednesday              23      35      Safe        1\n",
       "\n",
       "[840 rows x 6 columns]"
      ],
      "text/html": "<div>\n<style scoped>\n    .dataframe tbody tr th:only-of-type {\n        vertical-align: middle;\n    }\n\n    .dataframe tbody tr th {\n        vertical-align: top;\n    }\n\n    .dataframe thead th {\n        text-align: right;\n    }\n</style>\n<table border=\"1\" class=\"dataframe\">\n  <thead>\n    <tr style=\"text-align: right;\">\n      <th></th>\n      <th>CRASH_YEAR</th>\n      <th>CRASH_DAYWEEK</th>\n      <th>CRASH_TIME_HRS</th>\n      <th>ACC_ID</th>\n      <th>TYPE</th>\n      <th>TYPE_NO</th>\n    </tr>\n  </thead>\n  <tbody>\n    <tr>\n      <th>0</th>\n      <td>2015</td>\n      <td>Friday</td>\n      <td>0</td>\n      <td>29</td>\n      <td>Safe</td>\n      <td>1</td>\n    </tr>\n    <tr>\n      <th>1</th>\n      <td>2015</td>\n      <td>Friday</td>\n      <td>1</td>\n      <td>21</td>\n      <td>Safe</td>\n      <td>1</td>\n    </tr>\n    <tr>\n      <th>2</th>\n      <td>2015</td>\n      <td>Friday</td>\n      <td>2</td>\n      <td>22</td>\n      <td>Safe</td>\n      <td>1</td>\n    </tr>\n    <tr>\n      <th>3</th>\n      <td>2015</td>\n      <td>Friday</td>\n      <td>3</td>\n      <td>9</td>\n      <td>Safe</td>\n      <td>1</td>\n    </tr>\n    <tr>\n      <th>4</th>\n      <td>2015</td>\n      <td>Friday</td>\n      <td>4</td>\n      <td>14</td>\n      <td>Safe</td>\n      <td>1</td>\n    </tr>\n    <tr>\n      <th>...</th>\n      <td>...</td>\n      <td>...</td>\n      <td>...</td>\n      <td>...</td>\n      <td>...</td>\n      <td>...</td>\n    </tr>\n    <tr>\n      <th>835</th>\n      <td>2019</td>\n      <td>Wednesday</td>\n      <td>19</td>\n      <td>144</td>\n      <td>Modarate</td>\n      <td>2</td>\n    </tr>\n    <tr>\n      <th>836</th>\n      <td>2019</td>\n      <td>Wednesday</td>\n      <td>20</td>\n      <td>107</td>\n      <td>Modarate</td>\n      <td>2</td>\n    </tr>\n    <tr>\n      <th>837</th>\n      <td>2019</td>\n      <td>Wednesday</td>\n      <td>21</td>\n      <td>87</td>\n      <td>Safe</td>\n      <td>1</td>\n    </tr>\n    <tr>\n      <th>838</th>\n      <td>2019</td>\n      <td>Wednesday</td>\n      <td>22</td>\n      <td>56</td>\n      <td>Safe</td>\n      <td>1</td>\n    </tr>\n    <tr>\n      <th>839</th>\n      <td>2019</td>\n      <td>Wednesday</td>\n      <td>23</td>\n      <td>35</td>\n      <td>Safe</td>\n      <td>1</td>\n    </tr>\n  </tbody>\n</table>\n<p>840 rows × 6 columns</p>\n</div>"
     },
     "metadata": {},
     "execution_count": 9
    }
   ],
   "source": [
    "maping_dict={'Safe':1, 'Dangerous':4, 'Modarate':2,'Carefull':3}\n",
    "ML_Data['TYPE_NO']=ML_Data['TYPE'].map(maping_dict)\n",
    "ML_Data"
   ]
  },
  {
   "cell_type": "code",
   "execution_count": 10,
   "metadata": {},
   "outputs": [
    {
     "output_type": "execute_result",
     "data": {
      "text/plain": [
       "     CRASH_YEAR  CRASH_DAYWEEK  CRASH_TIME_HRS  ACC_ID      TYPE  TYPE_NO\n",
       "0          2015              5               0      29      Safe        1\n",
       "1          2015              5               1      21      Safe        1\n",
       "2          2015              5               2      22      Safe        1\n",
       "3          2015              5               3       9      Safe        1\n",
       "4          2015              5               4      14      Safe        1\n",
       "..          ...            ...             ...     ...       ...      ...\n",
       "835        2019              3              19     144  Modarate        2\n",
       "836        2019              3              20     107  Modarate        2\n",
       "837        2019              3              21      87      Safe        1\n",
       "838        2019              3              22      56      Safe        1\n",
       "839        2019              3              23      35      Safe        1\n",
       "\n",
       "[840 rows x 6 columns]"
      ],
      "text/html": "<div>\n<style scoped>\n    .dataframe tbody tr th:only-of-type {\n        vertical-align: middle;\n    }\n\n    .dataframe tbody tr th {\n        vertical-align: top;\n    }\n\n    .dataframe thead th {\n        text-align: right;\n    }\n</style>\n<table border=\"1\" class=\"dataframe\">\n  <thead>\n    <tr style=\"text-align: right;\">\n      <th></th>\n      <th>CRASH_YEAR</th>\n      <th>CRASH_DAYWEEK</th>\n      <th>CRASH_TIME_HRS</th>\n      <th>ACC_ID</th>\n      <th>TYPE</th>\n      <th>TYPE_NO</th>\n    </tr>\n  </thead>\n  <tbody>\n    <tr>\n      <th>0</th>\n      <td>2015</td>\n      <td>5</td>\n      <td>0</td>\n      <td>29</td>\n      <td>Safe</td>\n      <td>1</td>\n    </tr>\n    <tr>\n      <th>1</th>\n      <td>2015</td>\n      <td>5</td>\n      <td>1</td>\n      <td>21</td>\n      <td>Safe</td>\n      <td>1</td>\n    </tr>\n    <tr>\n      <th>2</th>\n      <td>2015</td>\n      <td>5</td>\n      <td>2</td>\n      <td>22</td>\n      <td>Safe</td>\n      <td>1</td>\n    </tr>\n    <tr>\n      <th>3</th>\n      <td>2015</td>\n      <td>5</td>\n      <td>3</td>\n      <td>9</td>\n      <td>Safe</td>\n      <td>1</td>\n    </tr>\n    <tr>\n      <th>4</th>\n      <td>2015</td>\n      <td>5</td>\n      <td>4</td>\n      <td>14</td>\n      <td>Safe</td>\n      <td>1</td>\n    </tr>\n    <tr>\n      <th>...</th>\n      <td>...</td>\n      <td>...</td>\n      <td>...</td>\n      <td>...</td>\n      <td>...</td>\n      <td>...</td>\n    </tr>\n    <tr>\n      <th>835</th>\n      <td>2019</td>\n      <td>3</td>\n      <td>19</td>\n      <td>144</td>\n      <td>Modarate</td>\n      <td>2</td>\n    </tr>\n    <tr>\n      <th>836</th>\n      <td>2019</td>\n      <td>3</td>\n      <td>20</td>\n      <td>107</td>\n      <td>Modarate</td>\n      <td>2</td>\n    </tr>\n    <tr>\n      <th>837</th>\n      <td>2019</td>\n      <td>3</td>\n      <td>21</td>\n      <td>87</td>\n      <td>Safe</td>\n      <td>1</td>\n    </tr>\n    <tr>\n      <th>838</th>\n      <td>2019</td>\n      <td>3</td>\n      <td>22</td>\n      <td>56</td>\n      <td>Safe</td>\n      <td>1</td>\n    </tr>\n    <tr>\n      <th>839</th>\n      <td>2019</td>\n      <td>3</td>\n      <td>23</td>\n      <td>35</td>\n      <td>Safe</td>\n      <td>1</td>\n    </tr>\n  </tbody>\n</table>\n<p>840 rows × 6 columns</p>\n</div>"
     },
     "metadata": {},
     "execution_count": 10
    }
   ],
   "source": [
    "maping_dict={'Friday':5, 'Monday':1, 'Saturday':6, 'Sunday':7, 'Thursday':4, 'Tuesday':2,'Wednesday':3}\n",
    "ML_Data['CRASH_DAYWEEK']=ML_Data['CRASH_DAYWEEK'].map(maping_dict)\n",
    "ML_Data"
   ]
  },
  {
   "cell_type": "code",
   "execution_count": 11,
   "metadata": {},
   "outputs": [],
   "source": [
    "X=ML_Data[['CRASH_TIME_HRS','CRASH_DAYWEEK','CRASH_YEAR']]\n",
    "y=ML_Data.TYPE_NO\n",
    "yl=ML_Data['TYPE_NO']"
   ]
  },
  {
   "cell_type": "code",
   "execution_count": 12,
   "metadata": {},
   "outputs": [
    {
     "output_type": "stream",
     "name": "stdout",
     "text": [
      "(840, 3) (840,) (840,)\n"
     ]
    }
   ],
   "source": [
    "print(X.shape, y.shape,yl.shape)"
   ]
  },
  {
   "cell_type": "code",
   "execution_count": 13,
   "metadata": {},
   "outputs": [
    {
     "output_type": "execute_result",
     "data": {
      "text/plain": [
       "pandas.core.series.Series"
      ]
     },
     "metadata": {},
     "execution_count": 13
    }
   ],
   "source": [
    "type(y)"
   ]
  },
  {
   "source": [
    "# LinearRegression"
   ],
   "cell_type": "code",
   "metadata": {},
   "execution_count": 14,
   "outputs": []
  },
  {
   "cell_type": "code",
   "execution_count": 17,
   "metadata": {},
   "outputs": [
    {
     "output_type": "stream",
     "name": "stdout",
     "text": [
      "R2 Score: 0.08598969746265339\n"
     ]
    }
   ],
   "source": [
    "from sklearn.linear_model import LinearRegression\n",
    "model = LinearRegression()\n",
    "\n",
    "# Fitting our model with all of our features in X\n",
    "model.fit(X, yl)\n",
    "\n",
    "score = model.score(X, yl)\n",
    "print(f\"R2 Score: {score}\")"
   ]
  },
  {
   "cell_type": "code",
   "execution_count": 18,
   "metadata": {},
   "outputs": [
    {
     "output_type": "execute_result",
     "data": {
      "text/plain": [
       "array([2.54083851])"
      ]
     },
     "metadata": {},
     "execution_count": 18
    }
   ],
   "source": [
    "TEST=[[24,5,2019]]\n",
    "LinearRegression_Predicted=model.predict(TEST)\n",
    "LinearRegression_Predicted"
   ]
  },
  {
   "source": [
    "# LogisticRegression"
   ],
   "cell_type": "markdown",
   "metadata": {}
  },
  {
   "cell_type": "code",
   "execution_count": 19,
   "metadata": {},
   "outputs": [],
   "source": [
    "from sklearn.model_selection import train_test_split\n",
    "\n",
    "X_train, X_test, y_train, y_test = train_test_split(X, y, random_state=1)"
   ]
  },
  {
   "cell_type": "code",
   "execution_count": 20,
   "metadata": {},
   "outputs": [
    {
     "output_type": "stream",
     "name": "stdout",
     "text": [
      "Training Data Score: 0.4111111111111111\nTesting Data Score: 0.38095238095238093\n"
     ]
    }
   ],
   "source": [
    "from sklearn.linear_model import LogisticRegression\n",
    "classifier = LogisticRegression()\n",
    "\n",
    "classifier.fit(X_train, y_train)\n",
    "\n",
    "print(f\"Training Data Score: {classifier.score(X_train, y_train)}\")\n",
    "print(f\"Testing Data Score: {classifier.score(X_test, y_test)}\")"
   ]
  },
  {
   "cell_type": "code",
   "execution_count": 21,
   "metadata": {},
   "outputs": [
    {
     "output_type": "execute_result",
     "data": {
      "text/plain": [
       "array([3], dtype=int64)"
      ]
     },
     "metadata": {},
     "execution_count": 21
    }
   ],
   "source": [
    "TEST=[[15,2,2020]]\n",
    "LogisticRegression_Predicted=classifier.predict(TEST)\n",
    "LogisticRegression_Predicted"
   ]
  },
  {
   "source": [
    "# Support vector machine linear classifier"
   ],
   "cell_type": "markdown",
   "metadata": {}
  },
  {
   "cell_type": "code",
   "execution_count": 22,
   "metadata": {},
   "outputs": [
    {
     "output_type": "stream",
     "name": "stdout",
     "text": [
      "Training Data Score: 0.6031746031746031\nTesting Data Score: 0.6095238095238096\n"
     ]
    }
   ],
   "source": [
    "from sklearn.svm import SVC \n",
    "model = SVC(kernel='linear')\n",
    "model.fit(X_train, y_train)\n",
    "\n",
    "print(f\"Training Data Score: {model.score(X_train, y_train)}\")\n",
    "print(f\"Testing Data Score: {model.score(X_test, y_test)}\")"
   ]
  },
  {
   "source": [
    "from sklearn.model_selection import GridSearchCV\n",
    "param_grid = {'C': [10, 50],\n",
    "              'gamma': [0.0001, 0.0005]}\n",
    "grid = GridSearchCV(model, param_grid, verbose=3)\n",
    "grid.fit(X_train, y_train)"
   ],
   "cell_type": "code",
   "metadata": {},
   "execution_count": 23,
   "outputs": [
    {
     "output_type": "stream",
     "name": "stdout",
     "text": [
      "Fitting 5 folds for each of 4 candidates, totalling 20 fits\n",
      "[CV] C=10, gamma=0.0001 ..............................................\n",
      "[CV] .................. C=10, gamma=0.0001, score=0.516, total=   0.1s\n",
      "[CV] C=10, gamma=0.0001 ..............................................\n",
      "[CV] .................. C=10, gamma=0.0001, score=0.587, total=   0.1s\n",
      "[CV] C=10, gamma=0.0001 ..............................................\n",
      "[Parallel(n_jobs=1)]: Using backend SequentialBackend with 1 concurrent workers.\n",
      "[Parallel(n_jobs=1)]: Done   1 out of   1 | elapsed:    0.0s remaining:    0.0s\n",
      "[Parallel(n_jobs=1)]: Done   2 out of   2 | elapsed:    0.1s remaining:    0.0s\n",
      "[CV] .................. C=10, gamma=0.0001, score=0.587, total=   0.1s\n",
      "[CV] C=10, gamma=0.0001 ..............................................\n",
      "[CV] .................. C=10, gamma=0.0001, score=0.611, total=   0.1s\n",
      "[CV] C=10, gamma=0.0001 ..............................................\n",
      "[CV] .................. C=10, gamma=0.0001, score=0.556, total=   0.1s\n",
      "[CV] C=10, gamma=0.0005 ..............................................\n",
      "[CV] .................. C=10, gamma=0.0005, score=0.516, total=   0.1s\n",
      "[CV] C=10, gamma=0.0005 ..............................................\n",
      "[CV] .................. C=10, gamma=0.0005, score=0.587, total=   0.1s\n",
      "[CV] C=10, gamma=0.0005 ..............................................\n",
      "[CV] .................. C=10, gamma=0.0005, score=0.587, total=   0.1s\n",
      "[CV] C=10, gamma=0.0005 ..............................................\n",
      "[CV] .................. C=10, gamma=0.0005, score=0.611, total=   0.1s\n",
      "[CV] C=10, gamma=0.0005 ..............................................\n",
      "[CV] .................. C=10, gamma=0.0005, score=0.556, total=   0.1s\n",
      "[CV] C=50, gamma=0.0001 ..............................................\n",
      "[CV] .................. C=50, gamma=0.0001, score=0.524, total=   0.4s\n",
      "[CV] C=50, gamma=0.0001 ..............................................\n",
      "[CV] .................. C=50, gamma=0.0001, score=0.587, total=   0.4s\n",
      "[CV] C=50, gamma=0.0001 ..............................................\n",
      "[CV] .................. C=50, gamma=0.0001, score=0.579, total=   0.4s\n",
      "[CV] C=50, gamma=0.0001 ..............................................\n",
      "[CV] .................. C=50, gamma=0.0001, score=0.611, total=   0.4s\n",
      "[CV] C=50, gamma=0.0001 ..............................................\n",
      "[CV] .................. C=50, gamma=0.0001, score=0.556, total=   0.4s\n",
      "[CV] C=50, gamma=0.0005 ..............................................\n",
      "[CV] .................. C=50, gamma=0.0005, score=0.524, total=   0.4s\n",
      "[CV] C=50, gamma=0.0005 ..............................................\n",
      "[CV] .................. C=50, gamma=0.0005, score=0.587, total=   0.4s\n",
      "[CV] C=50, gamma=0.0005 ..............................................\n",
      "[CV] .................. C=50, gamma=0.0005, score=0.579, total=   0.4s\n",
      "[CV] C=50, gamma=0.0005 ..............................................\n",
      "[CV] .................. C=50, gamma=0.0005, score=0.611, total=   0.4s\n",
      "[CV] C=50, gamma=0.0005 ..............................................\n",
      "[CV] .................. C=50, gamma=0.0005, score=0.556, total=   0.4s\n",
      "[Parallel(n_jobs=1)]: Done  20 out of  20 | elapsed:    5.1s finished\n"
     ]
    },
    {
     "output_type": "execute_result",
     "data": {
      "text/plain": [
       "GridSearchCV(estimator=SVC(kernel='linear'),\n",
       "             param_grid={'C': [10, 50], 'gamma': [0.0001, 0.0005]}, verbose=3)"
      ]
     },
     "metadata": {},
     "execution_count": 23
    }
   ]
  },
  {
   "cell_type": "code",
   "execution_count": 24,
   "metadata": {},
   "outputs": [
    {
     "output_type": "stream",
     "name": "stdout",
     "text": [
      "{'C': 10, 'gamma': 0.0001}\n"
     ]
    }
   ],
   "source": [
    "# List the best parameters for this dataset\n",
    "print(grid.best_params_)\n"
   ]
  },
  {
   "cell_type": "code",
   "execution_count": 25,
   "metadata": {},
   "outputs": [
    {
     "output_type": "stream",
     "name": "stdout",
     "text": [
      "              precision    recall  f1-score   support\n\n           1       0.61      1.00      0.76        85\n           2       0.00      0.00      0.00        32\n           3       0.61      0.72      0.66        60\n           4       0.00      0.00      0.00        33\n\n    accuracy                           0.61       210\n   macro avg       0.31      0.43      0.35       210\nweighted avg       0.42      0.61      0.49       210\n\n"
     ]
    }
   ],
   "source": [
    "# Make predictions with the hypertuned model\n",
    "predictions = grid.predict(X_test)\n",
    "# Calculate classification report\n",
    "from sklearn.metrics import classification_report\n",
    "print(classification_report(y_test, predictions,\n",
    "                            target_names=[\"1\", \"2\",\"3\",\"4\"]))"
   ]
  },
  {
   "source": [
    "# Neural_networks"
   ],
   "cell_type": "markdown",
   "metadata": {}
  },
  {
   "cell_type": "code",
   "execution_count": 26,
   "metadata": {},
   "outputs": [],
   "source": [
    "from sklearn.preprocessing import StandardScaler\n",
    "\n",
    "# Create a StandardScater model and fit it to the training data\n",
    "X_scaler = StandardScaler().fit(X_train)\n",
    "X_train_scaled = X_scaler.transform(X_train)\n",
    "X_test_scaled = X_scaler.transform(X_test)"
   ]
  },
  {
   "cell_type": "code",
   "execution_count": 27,
   "metadata": {},
   "outputs": [
    {
     "output_type": "execute_result",
     "data": {
      "text/plain": [
       "1"
      ]
     },
     "metadata": {},
     "execution_count": 27
    }
   ],
   "source": [
    "y_train.min()"
   ]
  },
  {
   "cell_type": "code",
   "execution_count": 28,
   "metadata": {},
   "outputs": [
    {
     "output_type": "execute_result",
     "data": {
      "text/plain": [
       "array([[0., 0., 0., 1., 0.],\n",
       "       [0., 1., 0., 0., 0.],\n",
       "       [0., 1., 0., 0., 0.],\n",
       "       ...,\n",
       "       [0., 1., 0., 0., 0.],\n",
       "       [0., 0., 1., 0., 0.],\n",
       "       [0., 0., 0., 1., 0.]], dtype=float32)"
      ]
     },
     "metadata": {},
     "execution_count": 28
    }
   ],
   "source": [
    "from tensorflow.keras.utils import to_categorical\n",
    "# One-hot encoding\n",
    "y_train_categorical = to_categorical(y_train)\n",
    "y_test_categorical = to_categorical(y_test)\n",
    "len(y_train_categorical)\n",
    "y_train_categorical"
   ]
  },
  {
   "cell_type": "code",
   "execution_count": 29,
   "metadata": {},
   "outputs": [
    {
     "output_type": "stream",
     "name": "stdout",
     "text": [
      "Model: \"sequential\"\n_________________________________________________________________\nLayer (type)                 Output Shape              Param #   \n=================================================================\ndense (Dense)                (None, 100)               400       \n_________________________________________________________________\ndense_1 (Dense)              (None, 100)               10100     \n_________________________________________________________________\ndense_2 (Dense)              (None, 5)                 505       \n=================================================================\nTotal params: 11,005\nTrainable params: 11,005\nNon-trainable params: 0\n_________________________________________________________________\n"
     ]
    }
   ],
   "source": [
    "from tensorflow.keras.models import Sequential\n",
    "from tensorflow.keras.layers import Dense\n",
    "\n",
    "model = Sequential()\n",
    "model.add(Dense(units=100, activation='relu', input_dim=3))\n",
    "model.add(Dense(units=100, activation='relu', input_dim=1))\n",
    "model.add(Dense(units=5, activation='softmax'))\n",
    "model.summary()"
   ]
  },
  {
   "cell_type": "code",
   "execution_count": 30,
   "metadata": {},
   "outputs": [],
   "source": [
    "# Compile the model\n",
    "model.compile(optimizer='adam',\n",
    "              loss='categorical_crossentropy',\n",
    "              metrics=['accuracy'])"
   ]
  },
  {
   "cell_type": "code",
   "execution_count": 31,
   "metadata": {},
   "outputs": [
    {
     "output_type": "stream",
     "name": "stdout",
     "text": [
      "Train on 630 samples\n",
      "Epoch 1/100\n",
      "630/630 - 0s - loss: 1.4948 - accuracy: 0.4048\n",
      "Epoch 2/100\n",
      "630/630 - 0s - loss: 1.2212 - accuracy: 0.4349\n",
      "Epoch 3/100\n",
      "630/630 - 0s - loss: 1.0905 - accuracy: 0.5333\n",
      "Epoch 4/100\n",
      "630/630 - 0s - loss: 1.0129 - accuracy: 0.6302\n",
      "Epoch 5/100\n",
      "630/630 - 0s - loss: 0.9466 - accuracy: 0.6413\n",
      "Epoch 6/100\n",
      "630/630 - 0s - loss: 0.8958 - accuracy: 0.6524\n",
      "Epoch 7/100\n",
      "630/630 - 0s - loss: 0.8384 - accuracy: 0.6635\n",
      "Epoch 8/100\n",
      "630/630 - 0s - loss: 0.8021 - accuracy: 0.6746\n",
      "Epoch 9/100\n",
      "630/630 - 0s - loss: 0.7709 - accuracy: 0.6762\n",
      "Epoch 10/100\n",
      "630/630 - 0s - loss: 0.7358 - accuracy: 0.6873\n",
      "Epoch 11/100\n",
      "630/630 - 0s - loss: 0.7184 - accuracy: 0.7000\n",
      "Epoch 12/100\n",
      "630/630 - 0s - loss: 0.6906 - accuracy: 0.7000\n",
      "Epoch 13/100\n",
      "630/630 - 0s - loss: 0.6712 - accuracy: 0.7048\n",
      "Epoch 14/100\n",
      "630/630 - 0s - loss: 0.6489 - accuracy: 0.7190\n",
      "Epoch 15/100\n",
      "630/630 - 0s - loss: 0.6385 - accuracy: 0.7222\n",
      "Epoch 16/100\n",
      "630/630 - 0s - loss: 0.6235 - accuracy: 0.7270\n",
      "Epoch 17/100\n",
      "630/630 - 0s - loss: 0.6049 - accuracy: 0.7222\n",
      "Epoch 18/100\n",
      "630/630 - 0s - loss: 0.5917 - accuracy: 0.7381\n",
      "Epoch 19/100\n",
      "630/630 - 0s - loss: 0.5764 - accuracy: 0.7508\n",
      "Epoch 20/100\n",
      "630/630 - 0s - loss: 0.5645 - accuracy: 0.7571\n",
      "Epoch 21/100\n",
      "630/630 - 0s - loss: 0.5526 - accuracy: 0.7587\n",
      "Epoch 22/100\n",
      "630/630 - 0s - loss: 0.5414 - accuracy: 0.7778\n",
      "Epoch 23/100\n",
      "630/630 - 0s - loss: 0.5262 - accuracy: 0.7825\n",
      "Epoch 24/100\n",
      "630/630 - 0s - loss: 0.5268 - accuracy: 0.7746\n",
      "Epoch 25/100\n",
      "630/630 - 0s - loss: 0.5115 - accuracy: 0.7937\n",
      "Epoch 26/100\n",
      "630/630 - 0s - loss: 0.5092 - accuracy: 0.7905\n",
      "Epoch 27/100\n",
      "630/630 - 0s - loss: 0.5003 - accuracy: 0.7810\n",
      "Epoch 28/100\n",
      "630/630 - 0s - loss: 0.4893 - accuracy: 0.8095\n",
      "Epoch 29/100\n",
      "630/630 - 0s - loss: 0.4789 - accuracy: 0.7952\n",
      "Epoch 30/100\n",
      "630/630 - 0s - loss: 0.4713 - accuracy: 0.8175\n",
      "Epoch 31/100\n",
      "630/630 - 0s - loss: 0.4607 - accuracy: 0.8190\n",
      "Epoch 32/100\n",
      "630/630 - 0s - loss: 0.4624 - accuracy: 0.8206\n",
      "Epoch 33/100\n",
      "630/630 - 0s - loss: 0.4531 - accuracy: 0.8143\n",
      "Epoch 34/100\n",
      "630/630 - 0s - loss: 0.4405 - accuracy: 0.8365\n",
      "Epoch 35/100\n",
      "630/630 - 0s - loss: 0.4380 - accuracy: 0.8429\n",
      "Epoch 36/100\n",
      "630/630 - 0s - loss: 0.4293 - accuracy: 0.8508\n",
      "Epoch 37/100\n",
      "630/630 - 0s - loss: 0.4286 - accuracy: 0.8429\n",
      "Epoch 38/100\n",
      "630/630 - 0s - loss: 0.4189 - accuracy: 0.8571\n",
      "Epoch 39/100\n",
      "630/630 - 0s - loss: 0.4177 - accuracy: 0.8540\n",
      "Epoch 40/100\n",
      "630/630 - 0s - loss: 0.4064 - accuracy: 0.8603\n",
      "Epoch 41/100\n",
      "630/630 - 0s - loss: 0.4083 - accuracy: 0.8603\n",
      "Epoch 42/100\n",
      "630/630 - 0s - loss: 0.4067 - accuracy: 0.8698\n",
      "Epoch 43/100\n",
      "630/630 - 0s - loss: 0.3970 - accuracy: 0.8810\n",
      "Epoch 44/100\n",
      "630/630 - 0s - loss: 0.3902 - accuracy: 0.8698\n",
      "Epoch 45/100\n",
      "630/630 - 0s - loss: 0.3880 - accuracy: 0.8873\n",
      "Epoch 46/100\n",
      "630/630 - 0s - loss: 0.3868 - accuracy: 0.8778\n",
      "Epoch 47/100\n",
      "630/630 - 0s - loss: 0.3825 - accuracy: 0.8746\n",
      "Epoch 48/100\n",
      "630/630 - 0s - loss: 0.3735 - accuracy: 0.8873\n",
      "Epoch 49/100\n",
      "630/630 - 0s - loss: 0.3711 - accuracy: 0.8857\n",
      "Epoch 50/100\n",
      "630/630 - 0s - loss: 0.3669 - accuracy: 0.8873\n",
      "Epoch 51/100\n",
      "630/630 - 0s - loss: 0.3638 - accuracy: 0.8857\n",
      "Epoch 52/100\n",
      "630/630 - 0s - loss: 0.3580 - accuracy: 0.8841\n",
      "Epoch 53/100\n",
      "630/630 - 0s - loss: 0.3546 - accuracy: 0.8921\n",
      "Epoch 54/100\n",
      "630/630 - 0s - loss: 0.3506 - accuracy: 0.8968\n",
      "Epoch 55/100\n",
      "630/630 - 0s - loss: 0.3518 - accuracy: 0.8873\n",
      "Epoch 56/100\n",
      "630/630 - 0s - loss: 0.3387 - accuracy: 0.9016\n",
      "Epoch 57/100\n",
      "630/630 - 0s - loss: 0.3468 - accuracy: 0.8841\n",
      "Epoch 58/100\n",
      "630/630 - 0s - loss: 0.3398 - accuracy: 0.8889\n",
      "Epoch 59/100\n",
      "630/630 - 0s - loss: 0.3414 - accuracy: 0.8905\n",
      "Epoch 60/100\n",
      "630/630 - 0s - loss: 0.3332 - accuracy: 0.8968\n",
      "Epoch 61/100\n",
      "630/630 - 0s - loss: 0.3285 - accuracy: 0.9079\n",
      "Epoch 62/100\n",
      "630/630 - 0s - loss: 0.3226 - accuracy: 0.9111\n",
      "Epoch 63/100\n",
      "630/630 - 0s - loss: 0.3227 - accuracy: 0.9016\n",
      "Epoch 64/100\n",
      "630/630 - 0s - loss: 0.3242 - accuracy: 0.9000\n",
      "Epoch 65/100\n",
      "630/630 - 0s - loss: 0.3162 - accuracy: 0.9048\n",
      "Epoch 66/100\n",
      "630/630 - 0s - loss: 0.3147 - accuracy: 0.9016\n",
      "Epoch 67/100\n",
      "630/630 - 0s - loss: 0.3123 - accuracy: 0.9016\n",
      "Epoch 68/100\n",
      "630/630 - 0s - loss: 0.3051 - accuracy: 0.9032\n",
      "Epoch 69/100\n",
      "630/630 - 0s - loss: 0.3053 - accuracy: 0.9063\n",
      "Epoch 70/100\n",
      "630/630 - 0s - loss: 0.3052 - accuracy: 0.9032\n",
      "Epoch 71/100\n",
      "630/630 - 0s - loss: 0.3002 - accuracy: 0.9063\n",
      "Epoch 72/100\n",
      "630/630 - 0s - loss: 0.3035 - accuracy: 0.9032\n",
      "Epoch 73/100\n",
      "630/630 - 0s - loss: 0.2933 - accuracy: 0.9159\n",
      "Epoch 74/100\n",
      "630/630 - 0s - loss: 0.2903 - accuracy: 0.9095\n",
      "Epoch 75/100\n",
      "630/630 - 0s - loss: 0.2870 - accuracy: 0.9016\n",
      "Epoch 76/100\n",
      "630/630 - 0s - loss: 0.2812 - accuracy: 0.9127\n",
      "Epoch 77/100\n",
      "630/630 - 0s - loss: 0.2789 - accuracy: 0.9159\n",
      "Epoch 78/100\n",
      "630/630 - 0s - loss: 0.2814 - accuracy: 0.9032\n",
      "Epoch 79/100\n",
      "630/630 - 0s - loss: 0.2816 - accuracy: 0.9079\n",
      "Epoch 80/100\n",
      "630/630 - 0s - loss: 0.2799 - accuracy: 0.9143\n",
      "Epoch 81/100\n",
      "630/630 - 0s - loss: 0.2759 - accuracy: 0.9063\n",
      "Epoch 82/100\n",
      "630/630 - 0s - loss: 0.2694 - accuracy: 0.9127\n",
      "Epoch 83/100\n",
      "630/630 - 0s - loss: 0.2711 - accuracy: 0.9143\n",
      "Epoch 84/100\n",
      "630/630 - 0s - loss: 0.2748 - accuracy: 0.9016\n",
      "Epoch 85/100\n",
      "630/630 - 0s - loss: 0.2615 - accuracy: 0.9159\n",
      "Epoch 86/100\n",
      "630/630 - 0s - loss: 0.2620 - accuracy: 0.9143\n",
      "Epoch 87/100\n",
      "630/630 - 0s - loss: 0.2689 - accuracy: 0.9206\n",
      "Epoch 88/100\n",
      "630/630 - 0s - loss: 0.2575 - accuracy: 0.9127\n",
      "Epoch 89/100\n",
      "630/630 - 0s - loss: 0.2605 - accuracy: 0.9143\n",
      "Epoch 90/100\n",
      "630/630 - 0s - loss: 0.2486 - accuracy: 0.9270\n",
      "Epoch 91/100\n",
      "630/630 - 0s - loss: 0.2480 - accuracy: 0.9286\n",
      "Epoch 92/100\n",
      "630/630 - 0s - loss: 0.2481 - accuracy: 0.9222\n",
      "Epoch 93/100\n",
      "630/630 - 0s - loss: 0.2438 - accuracy: 0.9254\n",
      "Epoch 94/100\n",
      "630/630 - 0s - loss: 0.2496 - accuracy: 0.9159\n",
      "Epoch 95/100\n",
      "630/630 - 0s - loss: 0.2521 - accuracy: 0.9127\n",
      "Epoch 96/100\n",
      "630/630 - 0s - loss: 0.2430 - accuracy: 0.9286\n",
      "Epoch 97/100\n",
      "630/630 - 0s - loss: 0.2386 - accuracy: 0.9206\n",
      "Epoch 98/100\n",
      "630/630 - 0s - loss: 0.2355 - accuracy: 0.9302\n",
      "Epoch 99/100\n",
      "630/630 - 0s - loss: 0.2360 - accuracy: 0.9222\n",
      "Epoch 100/100\n",
      "630/630 - 0s - loss: 0.2368 - accuracy: 0.9365\n"
     ]
    },
    {
     "output_type": "execute_result",
     "data": {
      "text/plain": [
       "<tensorflow.python.keras.callbacks.History at 0x1c2c3497c18>"
      ]
     },
     "metadata": {},
     "execution_count": 31
    }
   ],
   "source": [
    "# Fit the model to the training data\n",
    "model.fit(\n",
    "    X_train_scaled,\n",
    "    y_train_categorical,\n",
    "    epochs=100,\n",
    "    shuffle=True,\n",
    "    verbose=2\n",
    ")"
   ]
  },
  {
   "cell_type": "code",
   "execution_count": 43,
   "metadata": {},
   "outputs": [],
   "source": [
    "# Save the model\n",
    "model.save(\"Accident_model_trained.h5\")"
   ]
  },
  {
   "cell_type": "code",
   "execution_count": 44,
   "metadata": {},
   "outputs": [],
   "source": [
    "# Load the model\n",
    "from tensorflow.keras.models import load_model\n",
    "Accident_model = load_model(\"Accident_model_trained.h5\")"
   ]
  },
  {
   "source": [
    "TEST=[[8,5,2014],[12,1,2019],[22,7,2019],[13,2,2019],[14,2,2019],[15,2,2019]]\n",
    "TEST_scaled = X_scaler.transform(TEST)\n",
    "\n",
    "encoded_predictions = Accident_model.predict_classes(TEST_scaled)\n",
    "prediction_labels =encoded_predictions\n",
    "print(f\"Predicted classes: {prediction_labels}\")"
   ],
   "cell_type": "code",
   "metadata": {},
   "execution_count": 54,
   "outputs": [
    {
     "output_type": "stream",
     "name": "stdout",
     "text": [
      "Predicted classes: [3 3 1 3 3 4]\n"
     ]
    }
   ]
  },
  {
   "cell_type": "code",
   "execution_count": null,
   "metadata": {},
   "outputs": [],
   "source": [
    "# mayhem\n",
    "# mad house\n",
    "# chaotic\n"
   ]
  }
 ]
}