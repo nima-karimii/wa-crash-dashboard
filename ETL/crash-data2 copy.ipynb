{
 "metadata": {
  "language_info": {
   "codemirror_mode": {
    "name": "ipython",
    "version": 3
   },
   "file_extension": ".py",
   "mimetype": "text/x-python",
   "name": "python",
   "nbconvert_exporter": "python",
   "pygments_lexer": "ipython3",
   "version": "3.7.7-final"
  },
  "orig_nbformat": 2,
  "kernelspec": {
   "name": "Python 3.7.7 64-bit (conda)",
   "display_name": "Python 3.7.7 64-bit (conda)",
   "metadata": {
    "interpreter": {
     "hash": "89a0b202a8144c22129edde4541b47c913a724a744eb71851a418ed1250d89e1"
    }
   }
  }
 },
 "nbformat": 4,
 "nbformat_minor": 2,
 "cells": [
  {
   "source": [
    "# Import dependencies\n",
    "import pandas as pd\n",
    "import numpy as np\n",
    "import datetime  \n",
    "from datetime import date \n",
    "import calendar "
   ],
   "cell_type": "code",
   "metadata": {},
   "execution_count": 1,
   "outputs": []
  },
  {
   "cell_type": "code",
   "execution_count": 2,
   "metadata": {
    "tags": []
   },
   "outputs": [
    {
     "output_type": "stream",
     "name": "stdout",
     "text": [
      "<class 'pandas.core.frame.DataFrame'>\nRangeIndex: 145592 entries, 0 to 145591\nData columns (total 25 columns):\n #   Column                         Non-Null Count   Dtype  \n---  ------                         --------------   -----  \n 0   X                              145592 non-null  float64\n 1   Y                              145592 non-null  float64\n 2   OBJECTID                       145592 non-null  int64  \n 3   ACC_ID                         145592 non-null  int64  \n 4   ROAD_NO                        145592 non-null  object \n 5   ROAD_NAME                      145592 non-null  object \n 6   COMMON_ROAD_NAME               145592 non-null  object \n 7   CWAY                           145592 non-null  object \n 8   SLK                            145592 non-null  float64\n 9   INTERSECTION_NO                77094 non-null   float64\n 10  INTERSECTION_DESC              77094 non-null   object \n 11  LONGITUDE                      145592 non-null  float64\n 12  LATITUDE                       145592 non-null  float64\n 13  CRASH_DATE                     145592 non-null  object \n 14  CRASH_TIME                     145124 non-null  float64\n 15  ACCIDENT_TYPE                  145592 non-null  object \n 16  SEVERITY                       145592 non-null  object \n 17  EVENT_NATURE                   137488 non-null  object \n 18  EVENT_TYPE                     37065 non-null   object \n 19  TOTAL_BIKE_INVOLVED            145592 non-null  int64  \n 20  TOTAL_TRUCK_INVOLVED           145592 non-null  int64  \n 21  TOTAL_HEAVY_TRUCK_INVOLVED     145592 non-null  int64  \n 22  TOTAL_MOTOR_CYCLE_INVOLVED     145592 non-null  int64  \n 23  TOTAL_OTHER_VEHICLES_INVOLVED  145592 non-null  int64  \n 24  TOTAL_PEDESTRIANS_INVOLVED     145592 non-null  int64  \ndtypes: float64(7), int64(8), object(10)\nmemory usage: 27.8+ MB\n"
     ]
    }
   ],
   "source": [
    "# Read in csv file\n",
    "csv_file = \"../Resources/Crash_Information__Last_5_Years_.csv\"\n",
    "crash_df = pd.read_csv(csv_file)\n",
    "crash_df.info()"
   ]
  },
  {
   "cell_type": "code",
   "execution_count": 4,
   "metadata": {
    "tags": []
   },
   "outputs": [
    {
     "output_type": "stream",
     "name": "stdout",
     "text": [
      "<class 'pandas.core.frame.DataFrame'>\nRangeIndex: 145592 entries, 0 to 145591\nData columns (total 18 columns):\n #   Column                         Non-Null Count   Dtype  \n---  ------                         --------------   -----  \n 0   ACC_ID                         145592 non-null  int64  \n 1   ROAD_NO                        145592 non-null  object \n 2   COMMON_ROAD_NAME               145592 non-null  object \n 3   CWAY                           145592 non-null  object \n 4   LONGITUDE                      145592 non-null  float64\n 5   LATITUDE                       145592 non-null  float64\n 6   CRASH_DATE                     145592 non-null  object \n 7   CRASH_TIME                     145124 non-null  float64\n 8   ACCIDENT_TYPE                  145592 non-null  object \n 9   SEVERITY                       145592 non-null  object \n 10  EVENT_NATURE                   137488 non-null  object \n 11  EVENT_TYPE                     37065 non-null   object \n 12  TOTAL_BIKE_INVOLVED            145592 non-null  int64  \n 13  TOTAL_TRUCK_INVOLVED           145592 non-null  int64  \n 14  TOTAL_HEAVY_TRUCK_INVOLVED     145592 non-null  int64  \n 15  TOTAL_MOTOR_CYCLE_INVOLVED     145592 non-null  int64  \n 16  TOTAL_OTHER_VEHICLES_INVOLVED  145592 non-null  int64  \n 17  TOTAL_PEDESTRIANS_INVOLVED     145592 non-null  int64  \ndtypes: float64(3), int64(7), object(8)\nmemory usage: 20.0+ MB\n"
     ]
    }
   ],
   "source": [
    "# Drop irrelevant columns\n",
    "cleaned_crash_df = crash_df.drop([\"X\",\"Y\",\"OBJECTID\",\"ROAD_NAME\",\"SLK\",\"INTERSECTION_NO\",\"INTERSECTION_DESC\"],inplace=False,axis=1)\n",
    "cleaned_crash_df.info()"
   ]
  },
  {
   "cell_type": "code",
   "execution_count": 5,
   "metadata": {},
   "outputs": [
    {
     "output_type": "execute_result",
     "data": {
      "text/plain": [
       "array([ 130., 1345., 1230., ...,  337.,  614.,  413.])"
      ]
     },
     "metadata": {},
     "execution_count": 5
    }
   ],
   "source": [
    "cleaned_crash_df=cleaned_crash_df.dropna(subset=['CRASH_TIME'])\n",
    "cleaned_crash_df['CRASH_TIME'].unique()"
   ]
  },
  {
   "cell_type": "code",
   "execution_count": 6,
   "metadata": {
    "tags": []
   },
   "outputs": [
    {
     "output_type": "execute_result",
     "data": {
      "text/plain": [
       "False"
      ]
     },
     "metadata": {},
     "execution_count": 6
    }
   ],
   "source": [
    "cleaned_crash_df['CRASH_TIME'].isnull().values.any()"
   ]
  },
  {
   "cell_type": "code",
   "execution_count": 7,
   "metadata": {
    "tags": []
   },
   "outputs": [],
   "source": [
    "cleaned_crash_df[\"CRASH_TIME_HRS\"] = cleaned_crash_df[\"CRASH_TIME\"].div(100).apply(np.floor).astype(int)\n",
    "cleaned_crash_df[\"CRASH_TIME_MIN\"] = cleaned_crash_df[\"CRASH_TIME\"].mod(100).astype(int)"
   ]
  },
  {
   "cell_type": "code",
   "execution_count": 13,
   "metadata": {
    "tags": []
   },
   "outputs": [
    {
     "output_type": "execute_result",
     "data": {
      "text/plain": "          ACC_ID  ROAD_NO COMMON_ROAD_NAME CWAY   LONGITUDE   LATITUDE  \\\n0       10034076  1250106      Huntriss Rd    S  115.787126 -31.888018   \n1       10034083  1311665     Joondalup Dr    L  115.781050 -31.770677   \n2       10036078  1110006          Lord St    S  115.954109 -31.900235   \n3       10036129  1300280    Fitzgerald St    S  115.859176 -31.932468   \n4       10014546  1102151      Connolly Dr    L  115.711603 -31.651690   \n...          ...      ...              ...  ...         ...        ...   \n145587   9828256     H013      Canning Hwy    L  115.808584 -32.032091   \n145588   9828289     H035       Charles St    L  115.852651 -31.940140   \n145589   9801828  1070031        Currie St    S  115.753142 -32.342408   \n145590   9830313  1251035       Herbert St    S  115.777739 -31.890679   \n145591   9830411  1120138       Croesus St    S  115.921088 -31.884494   \n\n        CRASH_DATE  CRASH_TIME ACCIDENT_TYPE   SEVERITY    EVENT_NATURE  \\\n0       09/06/2019       130.0  Intersection   Hospital     Right Angle   \n1       09/06/2019      1345.0  Intersection  PDO Major        Rear End   \n2       09/06/2019      1230.0  Intersection  PDO Minor        Rear End   \n3       09/06/2019      1115.0      Midblock  PDO Minor             NaN   \n4       09/06/2019      1520.0  Intersection  PDO Major      Hit Object   \n...            ...         ...           ...        ...             ...   \n145587  13/07/2018      2055.0  Intersection  PDO Major     Right Angle   \n145588  13/07/2018      1330.0  Intersection    Medical        Rear End   \n145589  13/07/2018      1947.0      Midblock   Hospital  Hit Pedestrian   \n145590  13/07/2018      1035.0      Midblock  PDO Major        Rear End   \n145591  13/07/2018      1145.0      Midblock  PDO Major     Right Angle   \n\n                  EVENT_TYPE  TOTAL_BIKE_INVOLVED  TOTAL_TRUCK_INVOLVED  \\\n0                        NaN                    0                     0   \n1                        NaN                    0                     0   \n2                        NaN                    0                     0   \n3          Involving Parking                    0                     0   \n4                        NaN                    0                     0   \n...                      ...                  ...                   ...   \n145587                   NaN                    0                     0   \n145588                   NaN                    0                     0   \n145589  Involving Pedestrian                    0                     0   \n145590     Involving Parking                    0                     0   \n145591     Involving Parking                    0                     0   \n\n        TOTAL_HEAVY_TRUCK_INVOLVED  TOTAL_MOTOR_CYCLE_INVOLVED  \\\n0                                0                           0   \n1                                0                           0   \n2                                0                           0   \n3                                0                           0   \n4                                0                           0   \n...                            ...                         ...   \n145587                           0                           0   \n145588                           0                           0   \n145589                           0                           0   \n145590                           0                           0   \n145591                           0                           0   \n\n        TOTAL_OTHER_VEHICLES_INVOLVED  TOTAL_PEDESTRIANS_INVOLVED  \\\n0                                   1                           0   \n1                                   3                           0   \n2                                   2                           0   \n3                                   2                           0   \n4                                   1                           0   \n...                               ...                         ...   \n145587                              2                           0   \n145588                              2                           0   \n145589                              1                           1   \n145590                              2                           0   \n145591                              2                           0   \n\n        CRASH_TIME_HRS  CRASH_TIME_MIN  \n0                    1              30  \n1                   13              45  \n2                   12              30  \n3                   11              15  \n4                   15              20  \n...                ...             ...  \n145587              20              55  \n145588              13              30  \n145589              19              47  \n145590              10              35  \n145591              11              45  \n\n[145124 rows x 20 columns]",
      "text/html": "<div>\n<style scoped>\n    .dataframe tbody tr th:only-of-type {\n        vertical-align: middle;\n    }\n\n    .dataframe tbody tr th {\n        vertical-align: top;\n    }\n\n    .dataframe thead th {\n        text-align: right;\n    }\n</style>\n<table border=\"1\" class=\"dataframe\">\n  <thead>\n    <tr style=\"text-align: right;\">\n      <th></th>\n      <th>ACC_ID</th>\n      <th>ROAD_NO</th>\n      <th>COMMON_ROAD_NAME</th>\n      <th>CWAY</th>\n      <th>LONGITUDE</th>\n      <th>LATITUDE</th>\n      <th>CRASH_DATE</th>\n      <th>CRASH_TIME</th>\n      <th>ACCIDENT_TYPE</th>\n      <th>SEVERITY</th>\n      <th>EVENT_NATURE</th>\n      <th>EVENT_TYPE</th>\n      <th>TOTAL_BIKE_INVOLVED</th>\n      <th>TOTAL_TRUCK_INVOLVED</th>\n      <th>TOTAL_HEAVY_TRUCK_INVOLVED</th>\n      <th>TOTAL_MOTOR_CYCLE_INVOLVED</th>\n      <th>TOTAL_OTHER_VEHICLES_INVOLVED</th>\n      <th>TOTAL_PEDESTRIANS_INVOLVED</th>\n      <th>CRASH_TIME_HRS</th>\n      <th>CRASH_TIME_MIN</th>\n    </tr>\n  </thead>\n  <tbody>\n    <tr>\n      <th>0</th>\n      <td>10034076</td>\n      <td>1250106</td>\n      <td>Huntriss Rd</td>\n      <td>S</td>\n      <td>115.787126</td>\n      <td>-31.888018</td>\n      <td>09/06/2019</td>\n      <td>130.0</td>\n      <td>Intersection</td>\n      <td>Hospital</td>\n      <td>Right Angle</td>\n      <td>NaN</td>\n      <td>0</td>\n      <td>0</td>\n      <td>0</td>\n      <td>0</td>\n      <td>1</td>\n      <td>0</td>\n      <td>1</td>\n      <td>30</td>\n    </tr>\n    <tr>\n      <th>1</th>\n      <td>10034083</td>\n      <td>1311665</td>\n      <td>Joondalup Dr</td>\n      <td>L</td>\n      <td>115.781050</td>\n      <td>-31.770677</td>\n      <td>09/06/2019</td>\n      <td>1345.0</td>\n      <td>Intersection</td>\n      <td>PDO Major</td>\n      <td>Rear End</td>\n      <td>NaN</td>\n      <td>0</td>\n      <td>0</td>\n      <td>0</td>\n      <td>0</td>\n      <td>3</td>\n      <td>0</td>\n      <td>13</td>\n      <td>45</td>\n    </tr>\n    <tr>\n      <th>2</th>\n      <td>10036078</td>\n      <td>1110006</td>\n      <td>Lord St</td>\n      <td>S</td>\n      <td>115.954109</td>\n      <td>-31.900235</td>\n      <td>09/06/2019</td>\n      <td>1230.0</td>\n      <td>Intersection</td>\n      <td>PDO Minor</td>\n      <td>Rear End</td>\n      <td>NaN</td>\n      <td>0</td>\n      <td>0</td>\n      <td>0</td>\n      <td>0</td>\n      <td>2</td>\n      <td>0</td>\n      <td>12</td>\n      <td>30</td>\n    </tr>\n    <tr>\n      <th>3</th>\n      <td>10036129</td>\n      <td>1300280</td>\n      <td>Fitzgerald St</td>\n      <td>S</td>\n      <td>115.859176</td>\n      <td>-31.932468</td>\n      <td>09/06/2019</td>\n      <td>1115.0</td>\n      <td>Midblock</td>\n      <td>PDO Minor</td>\n      <td>NaN</td>\n      <td>Involving Parking</td>\n      <td>0</td>\n      <td>0</td>\n      <td>0</td>\n      <td>0</td>\n      <td>2</td>\n      <td>0</td>\n      <td>11</td>\n      <td>15</td>\n    </tr>\n    <tr>\n      <th>4</th>\n      <td>10014546</td>\n      <td>1102151</td>\n      <td>Connolly Dr</td>\n      <td>L</td>\n      <td>115.711603</td>\n      <td>-31.651690</td>\n      <td>09/06/2019</td>\n      <td>1520.0</td>\n      <td>Intersection</td>\n      <td>PDO Major</td>\n      <td>Hit Object</td>\n      <td>NaN</td>\n      <td>0</td>\n      <td>0</td>\n      <td>0</td>\n      <td>0</td>\n      <td>1</td>\n      <td>0</td>\n      <td>15</td>\n      <td>20</td>\n    </tr>\n    <tr>\n      <th>...</th>\n      <td>...</td>\n      <td>...</td>\n      <td>...</td>\n      <td>...</td>\n      <td>...</td>\n      <td>...</td>\n      <td>...</td>\n      <td>...</td>\n      <td>...</td>\n      <td>...</td>\n      <td>...</td>\n      <td>...</td>\n      <td>...</td>\n      <td>...</td>\n      <td>...</td>\n      <td>...</td>\n      <td>...</td>\n      <td>...</td>\n      <td>...</td>\n      <td>...</td>\n    </tr>\n    <tr>\n      <th>145587</th>\n      <td>9828256</td>\n      <td>H013</td>\n      <td>Canning Hwy</td>\n      <td>L</td>\n      <td>115.808584</td>\n      <td>-32.032091</td>\n      <td>13/07/2018</td>\n      <td>2055.0</td>\n      <td>Intersection</td>\n      <td>PDO Major</td>\n      <td>Right Angle</td>\n      <td>NaN</td>\n      <td>0</td>\n      <td>0</td>\n      <td>0</td>\n      <td>0</td>\n      <td>2</td>\n      <td>0</td>\n      <td>20</td>\n      <td>55</td>\n    </tr>\n    <tr>\n      <th>145588</th>\n      <td>9828289</td>\n      <td>H035</td>\n      <td>Charles St</td>\n      <td>L</td>\n      <td>115.852651</td>\n      <td>-31.940140</td>\n      <td>13/07/2018</td>\n      <td>1330.0</td>\n      <td>Intersection</td>\n      <td>Medical</td>\n      <td>Rear End</td>\n      <td>NaN</td>\n      <td>0</td>\n      <td>0</td>\n      <td>0</td>\n      <td>0</td>\n      <td>2</td>\n      <td>0</td>\n      <td>13</td>\n      <td>30</td>\n    </tr>\n    <tr>\n      <th>145589</th>\n      <td>9801828</td>\n      <td>1070031</td>\n      <td>Currie St</td>\n      <td>S</td>\n      <td>115.753142</td>\n      <td>-32.342408</td>\n      <td>13/07/2018</td>\n      <td>1947.0</td>\n      <td>Midblock</td>\n      <td>Hospital</td>\n      <td>Hit Pedestrian</td>\n      <td>Involving Pedestrian</td>\n      <td>0</td>\n      <td>0</td>\n      <td>0</td>\n      <td>0</td>\n      <td>1</td>\n      <td>1</td>\n      <td>19</td>\n      <td>47</td>\n    </tr>\n    <tr>\n      <th>145590</th>\n      <td>9830313</td>\n      <td>1251035</td>\n      <td>Herbert St</td>\n      <td>S</td>\n      <td>115.777739</td>\n      <td>-31.890679</td>\n      <td>13/07/2018</td>\n      <td>1035.0</td>\n      <td>Midblock</td>\n      <td>PDO Major</td>\n      <td>Rear End</td>\n      <td>Involving Parking</td>\n      <td>0</td>\n      <td>0</td>\n      <td>0</td>\n      <td>0</td>\n      <td>2</td>\n      <td>0</td>\n      <td>10</td>\n      <td>35</td>\n    </tr>\n    <tr>\n      <th>145591</th>\n      <td>9830411</td>\n      <td>1120138</td>\n      <td>Croesus St</td>\n      <td>S</td>\n      <td>115.921088</td>\n      <td>-31.884494</td>\n      <td>13/07/2018</td>\n      <td>1145.0</td>\n      <td>Midblock</td>\n      <td>PDO Major</td>\n      <td>Right Angle</td>\n      <td>Involving Parking</td>\n      <td>0</td>\n      <td>0</td>\n      <td>0</td>\n      <td>0</td>\n      <td>2</td>\n      <td>0</td>\n      <td>11</td>\n      <td>45</td>\n    </tr>\n  </tbody>\n</table>\n<p>145124 rows × 20 columns</p>\n</div>"
     },
     "metadata": {},
     "execution_count": 13
    }
   ],
   "source": [
    "cleaned_crash_df"
   ]
  },
  {
   "cell_type": "code",
   "execution_count": 14,
   "metadata": {
    "tags": []
   },
   "outputs": [
    {
     "output_type": "stream",
     "name": "stdout",
     "text": "Wednesday\n"
    }
   ],
   "source": [
    "# Add day of the week column\n",
    "def findDay(date): \n",
    "    day, month, year = (int(i) for i in date.split('/'))     \n",
    "    dayWeek = datetime.date(year, month, day) \n",
    "    return dayWeek.strftime(\"%A\") \n",
    "\n",
    "# date = '07/10/2020'\n",
    "# print(findDay(date)) \n",
    "\n",
    "cleaned_crash_df['CRASH_DAYWEEK'] = cleaned_crash_df['CRASH_DATE'].apply(findDay)"
   ]
  },
  {
   "cell_type": "code",
   "execution_count": 25,
   "metadata": {},
   "outputs": [],
   "source": [
    "# Add time of day column\n",
    "def findTimeDay(hour): \n",
    "    if hour >= 0 and hour <= 5:\n",
    "        return(\"Night\")\n",
    "    elif hour >= 6 and hour < 12:\n",
    "        return(\"Morning\")\n",
    "    elif hour >= 12 and hour < 18:\n",
    "        return(\"Afternoon\")\n",
    "    elif hour >= 18 and hour < 21:\n",
    "        return(\"Evening\")\n",
    "    else:\n",
    "        return(\"Night\")\n",
    "\n",
    " # hour = 11\n",
    " # print(findTimeDay(hour))\n",
    "\n",
    " cleaned_crash_df['CRASH_TIMEDAY'] = cleaned_crash_df['CRASH_TIME_HRS'].apply(findTimeDay)"
   ]
  },
  {
   "cell_type": "code",
   "execution_count": null,
   "metadata": {},
   "outputs": [],
   "source": []
  },
  {
   "cell_type": "code",
   "execution_count": 27,
   "metadata": {},
   "outputs": [
    {
     "output_type": "execute_result",
     "data": {
      "text/plain": "          ACC_ID  ROAD_NO COMMON_ROAD_NAME CWAY   LONGITUDE   LATITUDE  \\\n0       10034076  1250106      Huntriss Rd    S  115.787126 -31.888018   \n1       10034083  1311665     Joondalup Dr    L  115.781050 -31.770677   \n2       10036078  1110006          Lord St    S  115.954109 -31.900235   \n3       10036129  1300280    Fitzgerald St    S  115.859176 -31.932468   \n4       10014546  1102151      Connolly Dr    L  115.711603 -31.651690   \n...          ...      ...              ...  ...         ...        ...   \n145587   9828256     H013      Canning Hwy    L  115.808584 -32.032091   \n145588   9828289     H035       Charles St    L  115.852651 -31.940140   \n145589   9801828  1070031        Currie St    S  115.753142 -32.342408   \n145590   9830313  1251035       Herbert St    S  115.777739 -31.890679   \n145591   9830411  1120138       Croesus St    S  115.921088 -31.884494   \n\n        CRASH_DATE  CRASH_TIME ACCIDENT_TYPE   SEVERITY  ...  \\\n0       09/06/2019       130.0  Intersection   Hospital  ...   \n1       09/06/2019      1345.0  Intersection  PDO Major  ...   \n2       09/06/2019      1230.0  Intersection  PDO Minor  ...   \n3       09/06/2019      1115.0      Midblock  PDO Minor  ...   \n4       09/06/2019      1520.0  Intersection  PDO Major  ...   \n...            ...         ...           ...        ...  ...   \n145587  13/07/2018      2055.0  Intersection  PDO Major  ...   \n145588  13/07/2018      1330.0  Intersection    Medical  ...   \n145589  13/07/2018      1947.0      Midblock   Hospital  ...   \n145590  13/07/2018      1035.0      Midblock  PDO Major  ...   \n145591  13/07/2018      1145.0      Midblock  PDO Major  ...   \n\n       TOTAL_BIKE_INVOLVED TOTAL_TRUCK_INVOLVED  TOTAL_HEAVY_TRUCK_INVOLVED  \\\n0                        0                    0                           0   \n1                        0                    0                           0   \n2                        0                    0                           0   \n3                        0                    0                           0   \n4                        0                    0                           0   \n...                    ...                  ...                         ...   \n145587                   0                    0                           0   \n145588                   0                    0                           0   \n145589                   0                    0                           0   \n145590                   0                    0                           0   \n145591                   0                    0                           0   \n\n        TOTAL_MOTOR_CYCLE_INVOLVED  TOTAL_OTHER_VEHICLES_INVOLVED  \\\n0                                0                              1   \n1                                0                              3   \n2                                0                              2   \n3                                0                              2   \n4                                0                              1   \n...                            ...                            ...   \n145587                           0                              2   \n145588                           0                              2   \n145589                           0                              1   \n145590                           0                              2   \n145591                           0                              2   \n\n        TOTAL_PEDESTRIANS_INVOLVED  CRASH_TIME_HRS  CRASH_TIME_MIN  \\\n0                                0               1              30   \n1                                0              13              45   \n2                                0              12              30   \n3                                0              11              15   \n4                                0              15              20   \n...                            ...             ...             ...   \n145587                           0              20              55   \n145588                           0              13              30   \n145589                           1              19              47   \n145590                           0              10              35   \n145591                           0              11              45   \n\n        CRASH_DAYWEEK  CRASH_TIMEDAY  \n0              Sunday          Night  \n1              Sunday      Afternoon  \n2              Sunday      Afternoon  \n3              Sunday        Morning  \n4              Sunday      Afternoon  \n...               ...            ...  \n145587         Friday        Evening  \n145588         Friday      Afternoon  \n145589         Friday        Evening  \n145590         Friday        Morning  \n145591         Friday        Morning  \n\n[145124 rows x 22 columns]",
      "text/html": "<div>\n<style scoped>\n    .dataframe tbody tr th:only-of-type {\n        vertical-align: middle;\n    }\n\n    .dataframe tbody tr th {\n        vertical-align: top;\n    }\n\n    .dataframe thead th {\n        text-align: right;\n    }\n</style>\n<table border=\"1\" class=\"dataframe\">\n  <thead>\n    <tr style=\"text-align: right;\">\n      <th></th>\n      <th>ACC_ID</th>\n      <th>ROAD_NO</th>\n      <th>COMMON_ROAD_NAME</th>\n      <th>CWAY</th>\n      <th>LONGITUDE</th>\n      <th>LATITUDE</th>\n      <th>CRASH_DATE</th>\n      <th>CRASH_TIME</th>\n      <th>ACCIDENT_TYPE</th>\n      <th>SEVERITY</th>\n      <th>...</th>\n      <th>TOTAL_BIKE_INVOLVED</th>\n      <th>TOTAL_TRUCK_INVOLVED</th>\n      <th>TOTAL_HEAVY_TRUCK_INVOLVED</th>\n      <th>TOTAL_MOTOR_CYCLE_INVOLVED</th>\n      <th>TOTAL_OTHER_VEHICLES_INVOLVED</th>\n      <th>TOTAL_PEDESTRIANS_INVOLVED</th>\n      <th>CRASH_TIME_HRS</th>\n      <th>CRASH_TIME_MIN</th>\n      <th>CRASH_DAYWEEK</th>\n      <th>CRASH_TIMEDAY</th>\n    </tr>\n  </thead>\n  <tbody>\n    <tr>\n      <th>0</th>\n      <td>10034076</td>\n      <td>1250106</td>\n      <td>Huntriss Rd</td>\n      <td>S</td>\n      <td>115.787126</td>\n      <td>-31.888018</td>\n      <td>09/06/2019</td>\n      <td>130.0</td>\n      <td>Intersection</td>\n      <td>Hospital</td>\n      <td>...</td>\n      <td>0</td>\n      <td>0</td>\n      <td>0</td>\n      <td>0</td>\n      <td>1</td>\n      <td>0</td>\n      <td>1</td>\n      <td>30</td>\n      <td>Sunday</td>\n      <td>Night</td>\n    </tr>\n    <tr>\n      <th>1</th>\n      <td>10034083</td>\n      <td>1311665</td>\n      <td>Joondalup Dr</td>\n      <td>L</td>\n      <td>115.781050</td>\n      <td>-31.770677</td>\n      <td>09/06/2019</td>\n      <td>1345.0</td>\n      <td>Intersection</td>\n      <td>PDO Major</td>\n      <td>...</td>\n      <td>0</td>\n      <td>0</td>\n      <td>0</td>\n      <td>0</td>\n      <td>3</td>\n      <td>0</td>\n      <td>13</td>\n      <td>45</td>\n      <td>Sunday</td>\n      <td>Afternoon</td>\n    </tr>\n    <tr>\n      <th>2</th>\n      <td>10036078</td>\n      <td>1110006</td>\n      <td>Lord St</td>\n      <td>S</td>\n      <td>115.954109</td>\n      <td>-31.900235</td>\n      <td>09/06/2019</td>\n      <td>1230.0</td>\n      <td>Intersection</td>\n      <td>PDO Minor</td>\n      <td>...</td>\n      <td>0</td>\n      <td>0</td>\n      <td>0</td>\n      <td>0</td>\n      <td>2</td>\n      <td>0</td>\n      <td>12</td>\n      <td>30</td>\n      <td>Sunday</td>\n      <td>Afternoon</td>\n    </tr>\n    <tr>\n      <th>3</th>\n      <td>10036129</td>\n      <td>1300280</td>\n      <td>Fitzgerald St</td>\n      <td>S</td>\n      <td>115.859176</td>\n      <td>-31.932468</td>\n      <td>09/06/2019</td>\n      <td>1115.0</td>\n      <td>Midblock</td>\n      <td>PDO Minor</td>\n      <td>...</td>\n      <td>0</td>\n      <td>0</td>\n      <td>0</td>\n      <td>0</td>\n      <td>2</td>\n      <td>0</td>\n      <td>11</td>\n      <td>15</td>\n      <td>Sunday</td>\n      <td>Morning</td>\n    </tr>\n    <tr>\n      <th>4</th>\n      <td>10014546</td>\n      <td>1102151</td>\n      <td>Connolly Dr</td>\n      <td>L</td>\n      <td>115.711603</td>\n      <td>-31.651690</td>\n      <td>09/06/2019</td>\n      <td>1520.0</td>\n      <td>Intersection</td>\n      <td>PDO Major</td>\n      <td>...</td>\n      <td>0</td>\n      <td>0</td>\n      <td>0</td>\n      <td>0</td>\n      <td>1</td>\n      <td>0</td>\n      <td>15</td>\n      <td>20</td>\n      <td>Sunday</td>\n      <td>Afternoon</td>\n    </tr>\n    <tr>\n      <th>...</th>\n      <td>...</td>\n      <td>...</td>\n      <td>...</td>\n      <td>...</td>\n      <td>...</td>\n      <td>...</td>\n      <td>...</td>\n      <td>...</td>\n      <td>...</td>\n      <td>...</td>\n      <td>...</td>\n      <td>...</td>\n      <td>...</td>\n      <td>...</td>\n      <td>...</td>\n      <td>...</td>\n      <td>...</td>\n      <td>...</td>\n      <td>...</td>\n      <td>...</td>\n      <td>...</td>\n    </tr>\n    <tr>\n      <th>145587</th>\n      <td>9828256</td>\n      <td>H013</td>\n      <td>Canning Hwy</td>\n      <td>L</td>\n      <td>115.808584</td>\n      <td>-32.032091</td>\n      <td>13/07/2018</td>\n      <td>2055.0</td>\n      <td>Intersection</td>\n      <td>PDO Major</td>\n      <td>...</td>\n      <td>0</td>\n      <td>0</td>\n      <td>0</td>\n      <td>0</td>\n      <td>2</td>\n      <td>0</td>\n      <td>20</td>\n      <td>55</td>\n      <td>Friday</td>\n      <td>Evening</td>\n    </tr>\n    <tr>\n      <th>145588</th>\n      <td>9828289</td>\n      <td>H035</td>\n      <td>Charles St</td>\n      <td>L</td>\n      <td>115.852651</td>\n      <td>-31.940140</td>\n      <td>13/07/2018</td>\n      <td>1330.0</td>\n      <td>Intersection</td>\n      <td>Medical</td>\n      <td>...</td>\n      <td>0</td>\n      <td>0</td>\n      <td>0</td>\n      <td>0</td>\n      <td>2</td>\n      <td>0</td>\n      <td>13</td>\n      <td>30</td>\n      <td>Friday</td>\n      <td>Afternoon</td>\n    </tr>\n    <tr>\n      <th>145589</th>\n      <td>9801828</td>\n      <td>1070031</td>\n      <td>Currie St</td>\n      <td>S</td>\n      <td>115.753142</td>\n      <td>-32.342408</td>\n      <td>13/07/2018</td>\n      <td>1947.0</td>\n      <td>Midblock</td>\n      <td>Hospital</td>\n      <td>...</td>\n      <td>0</td>\n      <td>0</td>\n      <td>0</td>\n      <td>0</td>\n      <td>1</td>\n      <td>1</td>\n      <td>19</td>\n      <td>47</td>\n      <td>Friday</td>\n      <td>Evening</td>\n    </tr>\n    <tr>\n      <th>145590</th>\n      <td>9830313</td>\n      <td>1251035</td>\n      <td>Herbert St</td>\n      <td>S</td>\n      <td>115.777739</td>\n      <td>-31.890679</td>\n      <td>13/07/2018</td>\n      <td>1035.0</td>\n      <td>Midblock</td>\n      <td>PDO Major</td>\n      <td>...</td>\n      <td>0</td>\n      <td>0</td>\n      <td>0</td>\n      <td>0</td>\n      <td>2</td>\n      <td>0</td>\n      <td>10</td>\n      <td>35</td>\n      <td>Friday</td>\n      <td>Morning</td>\n    </tr>\n    <tr>\n      <th>145591</th>\n      <td>9830411</td>\n      <td>1120138</td>\n      <td>Croesus St</td>\n      <td>S</td>\n      <td>115.921088</td>\n      <td>-31.884494</td>\n      <td>13/07/2018</td>\n      <td>1145.0</td>\n      <td>Midblock</td>\n      <td>PDO Major</td>\n      <td>...</td>\n      <td>0</td>\n      <td>0</td>\n      <td>0</td>\n      <td>0</td>\n      <td>2</td>\n      <td>0</td>\n      <td>11</td>\n      <td>45</td>\n      <td>Friday</td>\n      <td>Morning</td>\n    </tr>\n  </tbody>\n</table>\n<p>145124 rows × 22 columns</p>\n</div>"
     },
     "metadata": {},
     "execution_count": 27
    }
   ],
   "source": [
    "cleaned_crash_df"
   ]
  },
  {
   "cell_type": "code",
   "execution_count": 28,
   "metadata": {},
   "outputs": [],
   "source": [
    "cleaned_crash_df.to_csv(\"crash_data2.csv\")"
   ]
  }
 ]
}